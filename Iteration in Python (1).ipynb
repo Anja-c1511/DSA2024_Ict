{
 "cells": [
  {
   "cell_type": "markdown",
   "id": "85e0ed96-f356-440f-ad02-caf4341ec85b",
   "metadata": {},
   "source": [
    "# While Loop"
   ]
  },
  {
   "cell_type": "raw",
   "id": "255af26a-e55f-4a4f-a297-94a0e254380c",
   "metadata": {},
   "source": [
    "While condition :\n",
    "    statements"
   ]
  },
  {
   "cell_type": "markdown",
   "id": "7a93f9da-9182-4074-b07a-43f98747fb6a",
   "metadata": {},
   "source": [
    "## Syntax"
   ]
  },
  {
   "cell_type": "code",
   "execution_count": 3,
   "id": "e8f7ec7d-2125-46cd-b14d-1837e543816b",
   "metadata": {},
   "outputs": [
    {
     "name": "stdout",
     "output_type": "stream",
     "text": [
      "hello\n",
      "hello\n",
      "hello\n",
      "hello\n",
      "hello\n",
      "hello\n"
     ]
    }
   ],
   "source": [
    "i=1\n",
    "while i<7 :\n",
    "    print(\"hello\")\n",
    "    i= i+1"
   ]
  },
  {
   "cell_type": "code",
   "execution_count": 25,
   "id": "c217298d-f084-4f06-9a65-09b3ee9be9f6",
   "metadata": {},
   "outputs": [
    {
     "name": "stdout",
     "output_type": "stream",
     "text": [
      "100\n",
      "98\n",
      "96\n",
      "94\n",
      "92\n",
      "90\n",
      "88\n",
      "86\n",
      "84\n",
      "82\n",
      "80\n",
      "78\n",
      "76\n",
      "74\n",
      "72\n",
      "70\n",
      "68\n",
      "66\n",
      "64\n",
      "62\n",
      "60\n",
      "58\n",
      "56\n",
      "54\n",
      "52\n",
      "50\n",
      "48\n",
      "46\n",
      "44\n",
      "42\n",
      "40\n",
      "38\n",
      "36\n",
      "34\n",
      "32\n",
      "30\n",
      "28\n",
      "26\n",
      "24\n",
      "22\n",
      "20\n",
      "18\n",
      "16\n",
      "14\n",
      "12\n",
      "10\n",
      "8\n",
      "6\n",
      "4\n",
      "2\n"
     ]
    }
   ],
   "source": [
    "# Print even numbers from 100 to 1 in decending order\n",
    "i=100\n",
    "while i>1 :\n",
    "    print(i)\n",
    "    i= i-2"
   ]
  },
  {
   "cell_type": "markdown",
   "id": "5dc0c61b-910f-4b15-b3f3-9104d1772cde",
   "metadata": {},
   "source": [
    "# For Loop"
   ]
  },
  {
   "cell_type": "code",
   "execution_count": 3,
   "id": "144020ee-a763-4f8c-b08d-741f6ef8268f",
   "metadata": {},
   "outputs": [
    {
     "name": "stdout",
     "output_type": "stream",
     "text": [
      "1\n",
      "3\n",
      "6\n",
      "10\n",
      "15\n"
     ]
    }
   ],
   "source": [
    "# sum of elements in a list\n",
    "numbers = [1, 2, 3, 4, 5]\n",
    "total = 0\n",
    "for i in numbers:\n",
    "    total += i \n",
    "    print(total)"
   ]
  },
  {
   "cell_type": "code",
   "execution_count": null,
   "id": "f106b269-ca92-4919-92a1-3e1721479930",
   "metadata": {},
   "outputs": [],
   "source": [
    "a = [10, 20, 30, 40]\n",
    "\n",
    "# Initialize a variable to hold the sum\n",
    "res = 0\n",
    "\n",
    "# Loop through each value in the list\n",
    "for val in a:\n",
    "  \n",
    "    # Add the current value to the sum\n",
    "    res += val\n",
    "\n",
    "print(res)\n"
   ]
  },
  {
   "cell_type": "code",
   "execution_count": 31,
   "id": "99dde88f-afd5-4926-a880-2cdb31fe3a62",
   "metadata": {},
   "outputs": [
    {
     "name": "stdout",
     "output_type": "stream",
     "text": [
      "Hello\n",
      "Hello\n",
      "Hello\n",
      "Hello\n",
      "Hello\n"
     ]
    }
   ],
   "source": [
    "#Write program to input \"Hello\" 5 times with for loop.\n",
    "for i in range (0,5):\n",
    "    print(\"Hello\")"
   ]
  },
  {
   "cell_type": "code",
   "execution_count": 37,
   "id": "9c8bb337-2779-40f6-bbef-685cb23ae28c",
   "metadata": {},
   "outputs": [
    {
     "name": "stdout",
     "output_type": "stream",
     "text": [
      "100\n",
      "98\n",
      "96\n",
      "94\n",
      "92\n",
      "90\n",
      "88\n",
      "86\n",
      "84\n",
      "82\n",
      "80\n",
      "78\n",
      "76\n",
      "74\n",
      "72\n",
      "70\n",
      "68\n",
      "66\n",
      "64\n",
      "62\n",
      "60\n",
      "58\n",
      "56\n",
      "54\n",
      "52\n",
      "50\n",
      "48\n",
      "46\n",
      "44\n",
      "42\n",
      "40\n",
      "38\n",
      "36\n",
      "34\n",
      "32\n",
      "30\n",
      "28\n",
      "26\n",
      "24\n",
      "22\n",
      "20\n",
      "18\n",
      "16\n",
      "14\n",
      "12\n",
      "10\n",
      "8\n",
      "6\n",
      "4\n",
      "2\n"
     ]
    }
   ],
   "source": [
    "# Write program to print even numbers from 100 to 1 in decending order using for loop\n",
    "for i in range (100,0,-2):\n",
    "    print(i)\n",
    "    "
   ]
  },
  {
   "cell_type": "markdown",
   "id": "39857398-807e-4774-95f4-65c56413a76c",
   "metadata": {},
   "source": [
    "## Continue Statement"
   ]
  },
  {
   "cell_type": "code",
   "execution_count": 53,
   "id": "b6c9233d-b9c0-422d-88ac-2c456ffa11a0",
   "metadata": {},
   "outputs": [
    {
     "name": "stdout",
     "output_type": "stream",
     "text": [
      "100\n",
      "98\n",
      "96\n",
      "94\n",
      "92\n",
      "90\n",
      "88\n",
      "86\n",
      "84\n",
      "82\n",
      "80\n",
      "78\n",
      "76\n",
      "74\n",
      "72\n",
      "70\n",
      "68\n",
      "66\n",
      "64\n",
      "62\n",
      "60\n",
      "58\n",
      "56\n",
      "54\n",
      "52\n",
      "48\n",
      "46\n",
      "44\n",
      "42\n",
      "40\n",
      "38\n",
      "36\n",
      "34\n",
      "32\n",
      "30\n",
      "28\n",
      "26\n",
      "24\n",
      "22\n",
      "20\n",
      "18\n",
      "16\n",
      "14\n",
      "12\n",
      "10\n",
      "8\n",
      "6\n",
      "4\n",
      "2\n"
     ]
    }
   ],
   "source": [
    "## Continue Statement\n",
    "for i in range (100,0,-2):\n",
    "    if i == 50:\n",
    "        continue \n",
    "    print(i)\n",
    "            "
   ]
  },
  {
   "cell_type": "markdown",
   "id": "23702cbe-552d-45ee-9357-f2a6fef23151",
   "metadata": {},
   "source": [
    "## Break statement "
   ]
  },
  {
   "cell_type": "code",
   "execution_count": 38,
   "id": "db77632a-b659-4ce5-aa30-262791d39699",
   "metadata": {},
   "outputs": [
    {
     "name": "stdout",
     "output_type": "stream",
     "text": [
      "0\n",
      "1\n",
      "2\n",
      "3\n"
     ]
    }
   ],
   "source": [
    "# Break statement \n",
    "for i in range (0,6):\n",
    "    print(i)\n",
    "    if i==3:\n",
    "        break"
   ]
  },
  {
   "cell_type": "markdown",
   "id": "cd80a4e3-870a-418a-843f-6f3af2e3ff14",
   "metadata": {},
   "source": [
    "## Keywords"
   ]
  },
  {
   "cell_type": "code",
   "execution_count": 56,
   "id": "313cdb96-1a86-4184-9809-ff01804d78ce",
   "metadata": {},
   "outputs": [
    {
     "name": "stdout",
     "output_type": "stream",
     "text": [
      "['False', 'None', 'True', 'and', 'as', 'assert', 'async', 'await', 'break', 'class', 'continue', 'def', 'del', 'elif', 'else', 'except', 'finally', 'for', 'from', 'global', 'if', 'import', 'in', 'is', 'lambda', 'nonlocal', 'not', 'or', 'pass', 'raise', 'return', 'try', 'while', 'with', 'yield']\n"
     ]
    }
   ],
   "source": [
    "#Keywords\n",
    "import keyword\n",
    "print(keyword.kwlist)"
   ]
  },
  {
   "cell_type": "markdown",
   "id": "b87d6221-39dc-4bda-a30d-8adf115f4450",
   "metadata": {},
   "source": [
    "## Multiple Iteration"
   ]
  },
  {
   "cell_type": "code",
   "execution_count": 58,
   "id": "a032c4a1-a3c1-4167-a1e1-45b1c6995a74",
   "metadata": {},
   "outputs": [
    {
     "name": "stdout",
     "output_type": "stream",
     "text": [
      "ICT\n",
      "DSA\n",
      "2024\n"
     ]
    }
   ],
   "source": [
    "# Multiple Iteration\n",
    "x,y,z = \"ICT\", \"DSA\", 2024\n",
    "print(x)\n",
    "print(y)\n",
    "print(z)"
   ]
  },
  {
   "cell_type": "markdown",
   "id": "9036eefb-30c8-4abe-8723-d59f9d2a1e8b",
   "metadata": {},
   "source": [
    "## Standard Input"
   ]
  },
  {
   "cell_type": "code",
   "execution_count": 6,
   "id": "12414456-bfee-44ba-80ad-393db53a9b85",
   "metadata": {},
   "outputs": [
    {
     "name": "stdin",
     "output_type": "stream",
     "text": [
      "Enter your name:  Anjana\n"
     ]
    },
    {
     "name": "stdout",
     "output_type": "stream",
     "text": [
      "Anjana\n"
     ]
    }
   ],
   "source": [
    "#Standard Input\n",
    "name = input(\"Enter your name: \")\n",
    "print(name)"
   ]
  },
  {
   "cell_type": "code",
   "execution_count": 60,
   "id": "a6761648-02da-443c-a008-f18830e9a226",
   "metadata": {},
   "outputs": [
    {
     "name": "stdin",
     "output_type": "stream",
     "text": [
      "Please enter your name:  Anjana\n"
     ]
    },
    {
     "name": "stdout",
     "output_type": "stream",
     "text": [
      "Welcome Anjana\n"
     ]
    }
   ],
   "source": [
    "name = input(\"Please enter your name: \")\n",
    "print(\"Welcome\",name)"
   ]
  },
  {
   "cell_type": "markdown",
   "id": "b1867ffa-a72e-4769-b79a-4e76959c9898",
   "metadata": {},
   "source": [
    "## Print"
   ]
  },
  {
   "cell_type": "code",
   "execution_count": 7,
   "id": "25581ee2-143b-44c6-a1d6-ca030a23d3a4",
   "metadata": {},
   "outputs": [
    {
     "name": "stdout",
     "output_type": "stream",
     "text": [
      "a= 10\n",
      "b= 20\n",
      "a= 10 and b=20\n",
      "a= 20 and b=10\n",
      "Hello Anjana,Welcome to DSA class!!\n"
     ]
    }
   ],
   "source": [
    "# Print\n",
    "a=10\n",
    "b=20\n",
    "print(\"a=\",a)\n",
    "print(\"b=\",b)\n",
    "print(\"a= {} and b={}\".format(a,b))\n",
    "print(\"a= {1} and b={0}\".format(a,b))\n",
    "print(\"Hello {},Welcome to DSA class!!\".format(name))"
   ]
  },
  {
   "cell_type": "code",
   "execution_count": 70,
   "id": "782b54eb-20b3-435e-b8c4-d6d6b6c884be",
   "metadata": {},
   "outputs": [
    {
     "name": "stdin",
     "output_type": "stream",
     "text": [
      "Input a number (1-10: 2\n"
     ]
    },
    {
     "name": "stdout",
     "output_type": "stream",
     "text": [
      "1 * 2 =  2\n",
      "2 * 2 =  4\n",
      "3 * 2 =  6\n",
      "4 * 2 =  8\n",
      "5 * 2 =  10\n",
      "6 * 2 =  12\n",
      "7 * 2 =  14\n",
      "8 * 2 =  16\n",
      "9 * 2 =  18\n",
      "10 * 2 =  20\n"
     ]
    }
   ],
   "source": [
    "# Write a program to print multiplication table 1-10 of a number input from the user\n",
    "x= input(\"Input a number (1-10:\")\n",
    "n=int(x)\n",
    "i=1\n",
    "while i<=10:\n",
    "    print(\"{} * {} = \".format(i,n), i*n)\n",
    "    i=i+1\n",
    "    "
   ]
  }
 ],
 "metadata": {
  "kernelspec": {
   "display_name": "Python 3 (ipykernel)",
   "language": "python",
   "name": "python3"
  },
  "language_info": {
   "codemirror_mode": {
    "name": "ipython",
    "version": 3
   },
   "file_extension": ".py",
   "mimetype": "text/x-python",
   "name": "python",
   "nbconvert_exporter": "python",
   "pygments_lexer": "ipython3",
   "version": "3.11.7"
  }
 },
 "nbformat": 4,
 "nbformat_minor": 5
}
