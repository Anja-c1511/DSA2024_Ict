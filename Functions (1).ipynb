{
 "cells": [
  {
   "cell_type": "markdown",
   "id": "92e63c77-9a62-400e-911d-8d300ac93431",
   "metadata": {},
   "source": [
    "# Functions\n",
    "\n",
    "def functionname (parameteres)\n",
    "    statements\n",
    "    return value"
   ]
  },
  {
   "cell_type": "markdown",
   "id": "48055c2c-f406-4bf4-8766-c814cbc11d26",
   "metadata": {},
   "source": [
    "#Functions"
   ]
  },
  {
   "cell_type": "code",
   "execution_count": 18,
   "id": "83404d1e-b82a-4bd0-8829-aa6c201caf82",
   "metadata": {},
   "outputs": [
    {
     "data": {
      "text/plain": [
       "300"
      ]
     },
     "execution_count": 18,
     "metadata": {},
     "output_type": "execute_result"
    }
   ],
   "source": [
    "def add_num(x,y):\n",
    "    '''This function adds two numbers''' \n",
    "    z = x+y\n",
    "    return z\n",
    "add_num(100,200)\n"
   ]
  },
  {
   "cell_type": "code",
   "execution_count": 21,
   "id": "b42009e4-4381-4bd7-b611-69931b61eec1",
   "metadata": {},
   "outputs": [
    {
     "name": "stdout",
     "output_type": "stream",
     "text": [
      "This function adds two numbers\n"
     ]
    }
   ],
   "source": [
    "# Doc string to access function documentation\n",
    "print(add_num.__doc__)"
   ]
  },
  {
   "cell_type": "code",
   "execution_count": 23,
   "id": "3d1809fe-f8cc-45ee-a7f4-b9f15f3a1151",
   "metadata": {},
   "outputs": [
    {
     "name": "stdout",
     "output_type": "stream",
     "text": [
      "Return the number of items in a container.\n"
     ]
    }
   ],
   "source": [
    "print(len.__doc__)"
   ]
  },
  {
   "cell_type": "code",
   "execution_count": 24,
   "id": "bb3e8251-212a-4289-9bf3-47334cab2167",
   "metadata": {
    "scrolled": true
   },
   "outputs": [
    {
     "name": "stdout",
     "output_type": "stream",
     "text": [
      "Prints the values to a stream, or to sys.stdout by default.\n",
      "\n",
      "  sep\n",
      "    string inserted between values, default a space.\n",
      "  end\n",
      "    string appended after the last value, default a newline.\n",
      "  file\n",
      "    a file-like object (stream); defaults to the current sys.stdout.\n",
      "  flush\n",
      "    whether to forcibly flush the stream.\n"
     ]
    }
   ],
   "source": [
    "print(print.__doc__)"
   ]
  },
  {
   "cell_type": "code",
   "execution_count": 32,
   "id": "9102b2f1-8249-4bf8-8133-78366814796d",
   "metadata": {},
   "outputs": [
    {
     "data": {
      "text/plain": [
       "0.2"
      ]
     },
     "execution_count": 32,
     "metadata": {},
     "output_type": "execute_result"
    }
   ],
   "source": [
    "# Write  a function to return the mean value of given list numbers in x\n",
    "def my_mean(x):\n",
    "    for n in x:\n",
    "        sum_x = \n",
    "    mean = sum(x)/len(x)\n",
    "    return mean\n",
    "x = [3,4,-7,0,1] \n",
    "my_mean(x)\n",
    "    "
   ]
  },
  {
   "cell_type": "code",
   "execution_count": 2,
   "id": "f7f40d3e-39cc-4182-ad3d-4c09383502fa",
   "metadata": {},
   "outputs": [
    {
     "data": {
      "text/plain": [
       "0.2"
      ]
     },
     "execution_count": 2,
     "metadata": {},
     "output_type": "execute_result"
    }
   ],
   "source": [
    "#Mean using loop\n",
    "def my_mean(x):\n",
    "    sum_x = 0\n",
    "    for n in x:\n",
    "        sum_x += n\n",
    "        mean = sum_x/len(x)\n",
    "    return mean\n",
    "x = [3,4,-7,0,1] \n",
    "my_mean(x)"
   ]
  },
  {
   "cell_type": "code",
   "execution_count": null,
   "id": "5903d8bd-71bf-4dd3-bb17-7b8d946814b6",
   "metadata": {},
   "outputs": [],
   "source": [
    "# Write  a function to return the variance of given list numbers in x"
   ]
  },
  {
   "cell_type": "code",
   "execution_count": 10,
   "id": "185ed5e4-d730-4058-9cfb-519f619e7f97",
   "metadata": {},
   "outputs": [
    {
     "data": {
      "text/plain": [
       "1.3333333333333333"
      ]
     },
     "execution_count": 10,
     "metadata": {},
     "output_type": "execute_result"
    }
   ],
   "source": [
    "def my_var(x):\n",
    "    x_avg = my_mean(x)\n",
    "    var = 0\n",
    "    for n in x:\n",
    "        a = (n - x_avg)**2\n",
    "        a += n\n",
    "        var = a/len(x)\n",
    "    return var\n",
    "my_var(x)"
   ]
  },
  {
   "cell_type": "code",
   "execution_count": null,
   "id": "ea8689a8-2b90-4210-a652-a8029236dc6a",
   "metadata": {},
   "outputs": [],
   "source": [
    "# Write  a function to return the standard deviation of given list of numbers in x"
   ]
  },
  {
   "cell_type": "code",
   "execution_count": 11,
   "id": "aaa06ff9-12b2-4a9d-a6e1-1db311b3c686",
   "metadata": {},
   "outputs": [
    {
     "data": {
      "text/plain": [
       "0.5727128425310541"
      ]
     },
     "execution_count": 11,
     "metadata": {},
     "output_type": "execute_result"
    }
   ],
   "source": [
    "def std_dev(x):\n",
    "    x_avg = my_mean(x)\n",
    "    var = 0\n",
    "    for n in x:\n",
    "        a = (n - x_avg)**2\n",
    "        a += n\n",
    "        var = a/len(x)\n",
    "        dev = var**0.5\n",
    "    return dev\n",
    "x = [3,4,-7,0,1]         \n",
    "std_dev(x)"
   ]
  },
  {
   "cell_type": "code",
   "execution_count": null,
   "id": "dd8f4aba-ec97-4299-a96f-462641f0db53",
   "metadata": {},
   "outputs": [],
   "source": [
    "#Finding Deviation by calling already defined functions"
   ]
  },
  {
   "cell_type": "code",
   "execution_count": 13,
   "id": "b536029a-23af-4507-83e4-497cc81c6733",
   "metadata": {},
   "outputs": [
    {
     "data": {
      "text/plain": [
       "0.5727128425310541"
      ]
     },
     "execution_count": 13,
     "metadata": {},
     "output_type": "execute_result"
    }
   ],
   "source": [
    "def std_dev(x):\n",
    "    var = my_var(x)\n",
    "    dev = var**0.5\n",
    "    return dev\n",
    "std_dev(x)"
   ]
  }
 ],
 "metadata": {
  "kernelspec": {
   "display_name": "Python 3 (ipykernel)",
   "language": "python",
   "name": "python3"
  },
  "language_info": {
   "codemirror_mode": {
    "name": "ipython",
    "version": 3
   },
   "file_extension": ".py",
   "mimetype": "text/x-python",
   "name": "python",
   "nbconvert_exporter": "python",
   "pygments_lexer": "ipython3",
   "version": "3.11.7"
  }
 },
 "nbformat": 4,
 "nbformat_minor": 5
}
