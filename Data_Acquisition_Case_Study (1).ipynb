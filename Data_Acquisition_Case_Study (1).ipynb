{
 "cells": [
  {
   "cell_type": "markdown",
   "metadata": {
    "id": "6aRvzWzbhcnp"
   },
   "source": [
    "# Data Acquisition Case Study"
   ]
  },
  {
   "cell_type": "markdown",
   "metadata": {
    "id": "734JDyUNq8fH"
   },
   "source": [
    "## Q1. Write Python code to create a new file named \"sample_data.txt\" in your documents folder and write the following content to it\n",
    "\n",
    "ICTAK\n",
    "\n",
    "Thejaswini,\n",
    "\n",
    "Technopark Rd,\n",
    "\n",
    "Technopark Campus,\n",
    "\n",
    "Thiruvananthapuram,\n",
    "\n",
    "Kerala 695581"
   ]
  },
  {
   "cell_type": "code",
   "execution_count": null,
   "metadata": {},
   "outputs": [],
   "source": [
    "import os\n",
    "file = open(os.path.join(\"C:\\\\Users\",\"kiran\",\"OneDrive\",\"Documents\",\"Case study\",\"Sample_data.txt\"),\"x\") "
   ]
  },
  {
   "cell_type": "code",
   "execution_count": 3,
   "metadata": {
    "id": "ieKhqBr-nl7s"
   },
   "outputs": [],
   "source": [
    "import os\n",
    "with open(os.path.join(\"C:\\\\Users\",\"kiran\",\"OneDrive\",\"Documents\",\"Case study\",\"Sample_data.txt\"),\"w\") as file:\n",
    "     file.write(\"ICTAK,\\nThejaswini,\\nTechnopark Rd,\\nTechnopark Campus,\\nThiruvananthapuram,\\nKerala 695581\")"
   ]
  },
  {
   "cell_type": "markdown",
   "metadata": {
    "id": "aJ6hQOJpimNv"
   },
   "source": [
    "## Q2. Write Python code to read and print the contents in \"sample_data.txt\""
   ]
  },
  {
   "cell_type": "code",
   "execution_count": 4,
   "metadata": {
    "id": "vRnilPQgnrPG"
   },
   "outputs": [
    {
     "name": "stdout",
     "output_type": "stream",
     "text": [
      "ICTAK,\n",
      "Thejaswini,\n",
      "Technopark Rd,\n",
      "Technopark Campus,\n",
      "Thiruvananthapuram,\n",
      "Kerala 695581\n"
     ]
    }
   ],
   "source": [
    "file = open(os.path.join(\"C:\\\\Users\",\"kiran\",\"OneDrive\",\"Documents\",\"Case study\",\"Sample_data.txt\"),\"r\")\n",
    "print(file.read())\n",
    "file.close()"
   ]
  },
  {
   "cell_type": "markdown",
   "metadata": {
    "id": "9aHquDcErda-"
   },
   "source": [
    "## Q3. Write Python code to check if \"sample_data.txt\" exists in documents folder"
   ]
  },
  {
   "cell_type": "code",
   "execution_count": 5,
   "metadata": {
    "id": "vY5TEsxunsKh"
   },
   "outputs": [
    {
     "name": "stdout",
     "output_type": "stream",
     "text": [
      "File Existing : True\n"
     ]
    }
   ],
   "source": [
    "File_Exists = os.path.isfile(os.path.join(\"C:\\\\Users\",\"kiran\",\"OneDrive\",\"Documents\",\"Case study\",\"Sample_data.txt\"))\n",
    "print(\"File Existing :\",File_Exists)"
   ]
  },
  {
   "cell_type": "markdown",
   "metadata": {
    "id": "BCWITkmopblI"
   },
   "source": [
    "## Q4: Save the following dataframe content to a CSV file (data.csv) in your downloads folder"
   ]
  },
  {
   "cell_type": "code",
   "execution_count": 4,
   "metadata": {
    "id": "r3THwBOGpP9F"
   },
   "outputs": [],
   "source": [
    "import pandas as pd\n",
    "\n",
    "data = {\"Id\": [1, 2, 3],\n",
    "        \"Name\": [\"Alice\", \"Bob\", \"Charlie\"],\n",
    "        \"Subject\": [\"Science\", \"Maths\", \"History\"]}\n",
    "df = pd.DataFrame(data)"
   ]
  },
  {
   "cell_type": "code",
   "execution_count": 7,
   "metadata": {},
   "outputs": [
    {
     "data": {
      "text/plain": [
       "'C:\\\\Users\\\\kiran\\\\Downloads\\\\Case_Study\\\\data.csv'"
      ]
     },
     "execution_count": 7,
     "metadata": {},
     "output_type": "execute_result"
    }
   ],
   "source": [
    "os.path.join(\"C:\\\\Users\",\"kiran\",\"Downloads\",\"Case_Study\",\"data.csv\")"
   ]
  },
  {
   "cell_type": "code",
   "execution_count": 8,
   "metadata": {},
   "outputs": [],
   "source": [
    "df.to_csv(os.path.join(\"C:\\\\Users\",\"kiran\",\"Downloads\",\"Case_Study\",\"data.csv\"))"
   ]
  },
  {
   "cell_type": "code",
   "execution_count": 9,
   "metadata": {},
   "outputs": [
    {
     "name": "stdout",
     "output_type": "stream",
     "text": [
      "   Unnamed: 0  Id     Name  Subject\n",
      "0           0   1    Alice  Science\n",
      "1           1   2      Bob    Maths\n",
      "2           2   3  Charlie  History\n"
     ]
    }
   ],
   "source": [
    "import os\n",
    "import pandas as pd\n",
    "df = pd.read_csv(os.path.join(\"C:\\\\Users\",\"kiran\",\"Downloads\",\"Case_Study\",\"data.csv\"))\n",
    "print(df.head())"
   ]
  },
  {
   "cell_type": "markdown",
   "metadata": {
    "id": "VF0nJjGElq0A"
   },
   "source": [
    "## Q5: Save the above dataframe content to an Excel (data.xlsx, sheet name: Sheet1) file in your documents folder"
   ]
  },
  {
   "cell_type": "code",
   "execution_count": 10,
   "metadata": {
    "id": "ZtOFb7ZJnu1m"
   },
   "outputs": [
    {
     "data": {
      "text/plain": [
       "'C:\\\\Users\\\\kiran\\\\OneDrive\\\\Documents\\\\Case study\\\\data.xlsx'"
      ]
     },
     "execution_count": 10,
     "metadata": {},
     "output_type": "execute_result"
    }
   ],
   "source": [
    "os.path.join(\"C:\\\\Users\",\"kiran\",\"OneDrive\",\"Documents\",\"Case study\",\"data.xlsx\")"
   ]
  },
  {
   "cell_type": "code",
   "execution_count": 11,
   "metadata": {},
   "outputs": [],
   "source": [
    "df.to_excel(os.path.join(\"C:\\\\Users\",\"kiran\",\"Downloads\",\"Case_Study\",\"data.xlsx\"), sheet_name = \"Sheet1\")"
   ]
  },
  {
   "cell_type": "code",
   "execution_count": 12,
   "metadata": {},
   "outputs": [
    {
     "name": "stdout",
     "output_type": "stream",
     "text": [
      "   Unnamed: 0.1  Unnamed: 0  Id     Name  Subject\n",
      "0             0           0   1    Alice  Science\n",
      "1             1           1   2      Bob    Maths\n",
      "2             2           2   3  Charlie  History\n"
     ]
    }
   ],
   "source": [
    "df = pd.read_excel(os.path.join(\"C:\\\\Users\",\"kiran\",\"Downloads\",\"Case_Study\",\"data.xlsx\"), sheet_name='Sheet1')\n",
    "print(df.head())"
   ]
  },
  {
   "cell_type": "markdown",
   "metadata": {
    "id": "amF6kxMQmdgF"
   },
   "source": [
    "## \n",
    "Q6. Write code to get the list of files in your Downloads folder and save it to a CSV file name \"download_list.csv\""
   ]
  },
  {
   "cell_type": "code",
   "execution_count": null,
   "metadata": {},
   "outputs": [],
   "source": [
    "Download_list_file = open(os.path.join(\"C:\\\\Users\",\"kiran\",\"OneDrive\",\"Documents\",\"Case study\",\"download_list.csv\"),\"x\") "
   ]
  },
  {
   "cell_type": "code",
   "execution_count": null,
   "metadata": {
    "id": "nVP86z3dnvwz"
   },
   "outputs": [],
   "source": [
    "file_list = os.listdir(os.path.join(\"C:\\\\Users\",\"kiran\",\"Downloads\"))"
   ]
  },
  {
   "cell_type": "code",
   "execution_count": null,
   "metadata": {},
   "outputs": [],
   "source": [
    "file_list_df = pd.DataFrame(file_list)"
   ]
  },
  {
   "cell_type": "code",
   "execution_count": null,
   "metadata": {},
   "outputs": [],
   "source": [
    "file_list_df.to_csv(os.path.join(\"C:\\\\Users\",\"kiran\",\"OneDrive\",\"Documents\",\"Case study\",\"download_list.csv\"))"
   ]
  },
  {
   "cell_type": "code",
   "execution_count": null,
   "metadata": {},
   "outputs": [],
   "source": [
    "import os\n",
    "import pandas as pd\n",
    "df = pd.read_csv(os.path.join(\"C:\\\\Users\",\"kiran\",\"OneDrive\",\"Documents\",\"Case study\",\"download_list.csv\"))\n",
    "print(df.head())"
   ]
  },
  {
   "cell_type": "markdown",
   "metadata": {
    "id": "vR7I4R5bnV2w"
   },
   "source": [
    "## Q7. Write Python code to save the contents of the given random_array variable as a numpy file"
   ]
  },
  {
   "cell_type": "code",
   "execution_count": 2,
   "metadata": {
    "id": "vHXYRxnDnJzA"
   },
   "outputs": [],
   "source": [
    "import numpy as np\n",
    "random_array = np.random.rand(10, 10)"
   ]
  },
  {
   "cell_type": "code",
   "execution_count": null,
   "metadata": {},
   "outputs": [],
   "source": [
    "random_array_file = open(os.path.join(\"C:\\\\Users\",\"kiran\",\"OneDrive\",\"Documents\",\"Case study\",\"random_array.npy\"),\"x\") "
   ]
  },
  {
   "cell_type": "code",
   "execution_count": 16,
   "metadata": {
    "id": "ihhSKJF9n3NP"
   },
   "outputs": [],
   "source": [
    "np.save(os.path.join(\"C:\\\\Users\",\"kiran\",\"OneDrive\",\"Documents\",\"Case study\",\"random_array.npy\"), random_array)"
   ]
  },
  {
   "cell_type": "code",
   "execution_count": 17,
   "metadata": {},
   "outputs": [
    {
     "name": "stdout",
     "output_type": "stream",
     "text": [
      "Loaded array: [[0.24249536 0.16513152 0.65763708 0.76515696 0.70631175 0.73831466\n",
      "  0.82268272 0.1503931  0.80997042 0.57644724]\n",
      " [0.24209872 0.42050565 0.50154822 0.80145897 0.94767967 0.7075715\n",
      "  0.68235078 0.86888874 0.26372445 0.73959956]\n",
      " [0.2852411  0.4513847  0.80802432 0.25423601 0.82822898 0.35952223\n",
      "  0.3504577  0.39432872 0.42035692 0.87207356]\n",
      " [0.32286585 0.29512387 0.19837158 0.03075176 0.52175037 0.83039402\n",
      "  0.40626641 0.75382795 0.03149069 0.17996251]\n",
      " [0.97514837 0.43052106 0.69384627 0.07795883 0.52347906 0.35355444\n",
      "  0.64772873 0.88185971 0.66134049 0.35833815]\n",
      " [0.30113359 0.33170852 0.02254886 0.88050095 0.7775284  0.31820682\n",
      "  0.1736908  0.19700755 0.16027182 0.82605711]\n",
      " [0.47508536 0.67917007 0.51041867 0.53973947 0.3861591  0.35307361\n",
      "  0.223575   0.02407686 0.03376214 0.71161905]\n",
      " [0.7215237  0.17159489 0.97701552 0.71251841 0.4651256  0.35579047\n",
      "  0.78429608 0.03977573 0.435043   0.57659077]\n",
      " [0.64280621 0.11747857 0.15689349 0.56903234 0.35539365 0.02332522\n",
      "  0.22522568 0.5556064  0.75040992 0.05419744]\n",
      " [0.87174317 0.98590273 0.4922369  0.61364102 0.14542599 0.50585849\n",
      "  0.01364518 0.91139212 0.8149009  0.28203145]]\n"
     ]
    }
   ],
   "source": [
    "loaded_array = np.load(os.path.join(\"C:\\\\Users\",\"kiran\",\"OneDrive\",\"Documents\",\"Case study\",\"random_array.npy\"))\n",
    "print(\"Loaded array:\", loaded_array)"
   ]
  },
  {
   "cell_type": "markdown",
   "metadata": {
    "id": "V7XfHgGAzNIl"
   },
   "source": [
    "## Q8. Write python code to save the contents of the above numpy file as text file named \"random.txt\" with a delimitter of \";\" to Documents folder"
   ]
  },
  {
   "cell_type": "code",
   "execution_count": null,
   "metadata": {},
   "outputs": [],
   "source": [
    "random_array_file_txt = open(os.path.join(\"C:\\\\Users\",\"kiran\",\"OneDrive\",\"Documents\",\"Case study\",\"random_array.txt\"),\"x\") "
   ]
  },
  {
   "cell_type": "code",
   "execution_count": 19,
   "metadata": {},
   "outputs": [],
   "source": [
    "np.savetxt(os.path.join(\"C:\\\\Users\",\"kiran\",\"OneDrive\",\"Documents\",\"Case study\",\"random_array.txt\"),random_array,delimiter = \";\")"
   ]
  },
  {
   "cell_type": "code",
   "execution_count": 20,
   "metadata": {},
   "outputs": [
    {
     "name": "stdout",
     "output_type": "stream",
     "text": [
      "Loaded array txt : [[0.24249536 0.16513152 0.65763708 0.76515696 0.70631175 0.73831466\n",
      "  0.82268272 0.1503931  0.80997042 0.57644724]\n",
      " [0.24209872 0.42050565 0.50154822 0.80145897 0.94767967 0.7075715\n",
      "  0.68235078 0.86888874 0.26372445 0.73959956]\n",
      " [0.2852411  0.4513847  0.80802432 0.25423601 0.82822898 0.35952223\n",
      "  0.3504577  0.39432872 0.42035692 0.87207356]\n",
      " [0.32286585 0.29512387 0.19837158 0.03075176 0.52175037 0.83039402\n",
      "  0.40626641 0.75382795 0.03149069 0.17996251]\n",
      " [0.97514837 0.43052106 0.69384627 0.07795883 0.52347906 0.35355444\n",
      "  0.64772873 0.88185971 0.66134049 0.35833815]\n",
      " [0.30113359 0.33170852 0.02254886 0.88050095 0.7775284  0.31820682\n",
      "  0.1736908  0.19700755 0.16027182 0.82605711]\n",
      " [0.47508536 0.67917007 0.51041867 0.53973947 0.3861591  0.35307361\n",
      "  0.223575   0.02407686 0.03376214 0.71161905]\n",
      " [0.7215237  0.17159489 0.97701552 0.71251841 0.4651256  0.35579047\n",
      "  0.78429608 0.03977573 0.435043   0.57659077]\n",
      " [0.64280621 0.11747857 0.15689349 0.56903234 0.35539365 0.02332522\n",
      "  0.22522568 0.5556064  0.75040992 0.05419744]\n",
      " [0.87174317 0.98590273 0.4922369  0.61364102 0.14542599 0.50585849\n",
      "  0.01364518 0.91139212 0.8149009  0.28203145]]\n"
     ]
    }
   ],
   "source": [
    "loaded_array_txt = np.loadtxt(os.path.join(\"C:\\\\Users\",\"kiran\",\"OneDrive\",\"Documents\",\"Case study\",\"random_array.txt\"), delimiter=\";\")\n",
    "print(\"Loaded array txt :\", loaded_array_txt)"
   ]
  },
  {
   "cell_type": "markdown",
   "metadata": {
    "id": "nJSaX0Rg151y"
   },
   "source": [
    "## Download and analyze Bike Sharing Dataset (hour.csv) for UCI Irvin Repository (https://archive.ics.uci.edu/dataset/275/bike+sharing+dataset) and answer the following questions"
   ]
  },
  {
   "cell_type": "markdown",
   "metadata": {
    "id": "-wt4mxq32U6H"
   },
   "source": [
    "## Q9. What is the size of the dataset? (Number of rows and columns)\n",
    "\n"
   ]
  },
  {
   "cell_type": "code",
   "execution_count": 5,
   "metadata": {
    "id": "Pj0I0JhF2EEg"
   },
   "outputs": [
    {
     "data": {
      "text/plain": [
       "(17379, 17)"
      ]
     },
     "execution_count": 5,
     "metadata": {},
     "output_type": "execute_result"
    }
   ],
   "source": [
    "df2 = pd.read_csv(\"C:\\\\Users\\\\kiran\\\\OneDrive\\\\Documents\\\\Case study\\\\Bikeshare\\\\hour.csv\")\n",
    "df2.shape"
   ]
  },
  {
   "cell_type": "markdown",
   "metadata": {
    "id": "GbDnC_i438m8"
   },
   "source": [
    "## Q10. What are the data types of each column?\n"
   ]
  },
  {
   "cell_type": "code",
   "execution_count": 6,
   "metadata": {
    "id": "_YJIqJEZ3-DC"
   },
   "outputs": [
    {
     "name": "stdout",
     "output_type": "stream",
     "text": [
      "<class 'pandas.core.frame.DataFrame'>\n",
      "RangeIndex: 17379 entries, 0 to 17378\n",
      "Data columns (total 17 columns):\n",
      " #   Column      Non-Null Count  Dtype  \n",
      "---  ------      --------------  -----  \n",
      " 0   instant     17379 non-null  int64  \n",
      " 1   dteday      17379 non-null  object \n",
      " 2   season      17379 non-null  int64  \n",
      " 3   yr          17379 non-null  int64  \n",
      " 4   mnth        17379 non-null  int64  \n",
      " 5   hr          17379 non-null  int64  \n",
      " 6   holiday     17379 non-null  int64  \n",
      " 7   weekday     17379 non-null  int64  \n",
      " 8   workingday  17379 non-null  int64  \n",
      " 9   weathersit  17379 non-null  int64  \n",
      " 10  temp        17379 non-null  float64\n",
      " 11  atemp       17379 non-null  float64\n",
      " 12  hum         17379 non-null  float64\n",
      " 13  windspeed   17379 non-null  float64\n",
      " 14  casual      17379 non-null  int64  \n",
      " 15  registered  17379 non-null  int64  \n",
      " 16  cnt         17379 non-null  int64  \n",
      "dtypes: float64(4), int64(12), object(1)\n",
      "memory usage: 2.3+ MB\n"
     ]
    }
   ],
   "source": [
    "df2.info()"
   ]
  },
  {
   "cell_type": "markdown",
   "metadata": {
    "id": "zi0jHMq-3_NI"
   },
   "source": [
    "## Q11. Are there any missing values in the dataset? If so, which columns have missing values and how many?"
   ]
  },
  {
   "cell_type": "code",
   "execution_count": 7,
   "metadata": {
    "id": "mct7F2M-3-kQ"
   },
   "outputs": [
    {
     "data": {
      "text/plain": [
       "instant       0\n",
       "dteday        0\n",
       "season        0\n",
       "yr            0\n",
       "mnth          0\n",
       "hr            0\n",
       "holiday       0\n",
       "weekday       0\n",
       "workingday    0\n",
       "weathersit    0\n",
       "temp          0\n",
       "atemp         0\n",
       "hum           0\n",
       "windspeed     0\n",
       "casual        0\n",
       "registered    0\n",
       "cnt           0\n",
       "dtype: int64"
      ]
     },
     "execution_count": 7,
     "metadata": {},
     "output_type": "execute_result"
    }
   ],
   "source": [
    "df2.isna().sum()"
   ]
  },
  {
   "cell_type": "markdown",
   "metadata": {
    "id": "Ew__56Iq4BMK"
   },
   "source": [
    "## Q.12. For the windspeed column, calculate the mean, median, and standard deviation."
   ]
  },
  {
   "cell_type": "code",
   "execution_count": 8,
   "metadata": {
    "id": "ucijLTNA4Clr"
   },
   "outputs": [
    {
     "data": {
      "text/plain": [
       "0.1900976063064618"
      ]
     },
     "execution_count": 8,
     "metadata": {},
     "output_type": "execute_result"
    }
   ],
   "source": [
    "df2[\"windspeed\"].mean()"
   ]
  },
  {
   "cell_type": "code",
   "execution_count": 9,
   "metadata": {},
   "outputs": [
    {
     "data": {
      "text/plain": [
       "0.194"
      ]
     },
     "execution_count": 9,
     "metadata": {},
     "output_type": "execute_result"
    }
   ],
   "source": [
    "df2[\"windspeed\"].median()"
   ]
  },
  {
   "cell_type": "code",
   "execution_count": 10,
   "metadata": {},
   "outputs": [
    {
     "data": {
      "text/plain": [
       "0.12234022857279413"
      ]
     },
     "execution_count": 10,
     "metadata": {},
     "output_type": "execute_result"
    }
   ],
   "source": [
    "df2[\"windspeed\"].std()"
   ]
  },
  {
   "cell_type": "markdown",
   "metadata": {
    "id": "3dHaYtuP4C78"
   },
   "source": [
    "## Q13. Identify any potential outliers in a numerical column of your choice. Explain your approach.\n"
   ]
  },
  {
   "cell_type": "code",
   "execution_count": 11,
   "metadata": {
    "id": "nVkU-okb4EiU"
   },
   "outputs": [
    {
     "data": {
      "text/plain": [
       "0.3"
      ]
     },
     "execution_count": 11,
     "metadata": {},
     "output_type": "execute_result"
    }
   ],
   "source": [
    "# Calculate the IQR for mpg.\n",
    "Q1 = df2['hum'].quantile(0.25)\n",
    "Q3 = df2['hum'].quantile(0.75)\n",
    "IQR = Q3 - Q1\n",
    "np.round(IQR,2)"
   ]
  },
  {
   "cell_type": "code",
   "execution_count": 12,
   "metadata": {},
   "outputs": [
    {
     "data": {
      "text/html": [
       "<div>\n",
       "<style scoped>\n",
       "    .dataframe tbody tr th:only-of-type {\n",
       "        vertical-align: middle;\n",
       "    }\n",
       "\n",
       "    .dataframe tbody tr th {\n",
       "        vertical-align: top;\n",
       "    }\n",
       "\n",
       "    .dataframe thead th {\n",
       "        text-align: right;\n",
       "    }\n",
       "</style>\n",
       "<table border=\"1\" class=\"dataframe\">\n",
       "  <thead>\n",
       "    <tr style=\"text-align: right;\">\n",
       "      <th></th>\n",
       "      <th>instant</th>\n",
       "      <th>dteday</th>\n",
       "      <th>season</th>\n",
       "      <th>yr</th>\n",
       "      <th>mnth</th>\n",
       "      <th>hr</th>\n",
       "      <th>holiday</th>\n",
       "      <th>weekday</th>\n",
       "      <th>workingday</th>\n",
       "      <th>weathersit</th>\n",
       "      <th>temp</th>\n",
       "      <th>atemp</th>\n",
       "      <th>hum</th>\n",
       "      <th>windspeed</th>\n",
       "      <th>casual</th>\n",
       "      <th>registered</th>\n",
       "      <th>cnt</th>\n",
       "    </tr>\n",
       "  </thead>\n",
       "  <tbody>\n",
       "    <tr>\n",
       "      <th>1551</th>\n",
       "      <td>1552</td>\n",
       "      <td>2011-03-10</td>\n",
       "      <td>1</td>\n",
       "      <td>0</td>\n",
       "      <td>3</td>\n",
       "      <td>0</td>\n",
       "      <td>0</td>\n",
       "      <td>4</td>\n",
       "      <td>1</td>\n",
       "      <td>3</td>\n",
       "      <td>0.34</td>\n",
       "      <td>0.3182</td>\n",
       "      <td>0.0</td>\n",
       "      <td>0.2537</td>\n",
       "      <td>3</td>\n",
       "      <td>0</td>\n",
       "      <td>3</td>\n",
       "    </tr>\n",
       "    <tr>\n",
       "      <th>1552</th>\n",
       "      <td>1553</td>\n",
       "      <td>2011-03-10</td>\n",
       "      <td>1</td>\n",
       "      <td>0</td>\n",
       "      <td>3</td>\n",
       "      <td>1</td>\n",
       "      <td>0</td>\n",
       "      <td>4</td>\n",
       "      <td>1</td>\n",
       "      <td>3</td>\n",
       "      <td>0.34</td>\n",
       "      <td>0.3182</td>\n",
       "      <td>0.0</td>\n",
       "      <td>0.2537</td>\n",
       "      <td>0</td>\n",
       "      <td>2</td>\n",
       "      <td>2</td>\n",
       "    </tr>\n",
       "    <tr>\n",
       "      <th>1553</th>\n",
       "      <td>1554</td>\n",
       "      <td>2011-03-10</td>\n",
       "      <td>1</td>\n",
       "      <td>0</td>\n",
       "      <td>3</td>\n",
       "      <td>2</td>\n",
       "      <td>0</td>\n",
       "      <td>4</td>\n",
       "      <td>1</td>\n",
       "      <td>3</td>\n",
       "      <td>0.34</td>\n",
       "      <td>0.3182</td>\n",
       "      <td>0.0</td>\n",
       "      <td>0.2537</td>\n",
       "      <td>0</td>\n",
       "      <td>1</td>\n",
       "      <td>1</td>\n",
       "    </tr>\n",
       "    <tr>\n",
       "      <th>1554</th>\n",
       "      <td>1555</td>\n",
       "      <td>2011-03-10</td>\n",
       "      <td>1</td>\n",
       "      <td>0</td>\n",
       "      <td>3</td>\n",
       "      <td>5</td>\n",
       "      <td>0</td>\n",
       "      <td>4</td>\n",
       "      <td>1</td>\n",
       "      <td>3</td>\n",
       "      <td>0.36</td>\n",
       "      <td>0.3485</td>\n",
       "      <td>0.0</td>\n",
       "      <td>0.1940</td>\n",
       "      <td>1</td>\n",
       "      <td>2</td>\n",
       "      <td>3</td>\n",
       "    </tr>\n",
       "    <tr>\n",
       "      <th>1555</th>\n",
       "      <td>1556</td>\n",
       "      <td>2011-03-10</td>\n",
       "      <td>1</td>\n",
       "      <td>0</td>\n",
       "      <td>3</td>\n",
       "      <td>6</td>\n",
       "      <td>0</td>\n",
       "      <td>4</td>\n",
       "      <td>1</td>\n",
       "      <td>3</td>\n",
       "      <td>0.36</td>\n",
       "      <td>0.3333</td>\n",
       "      <td>0.0</td>\n",
       "      <td>0.3284</td>\n",
       "      <td>0</td>\n",
       "      <td>12</td>\n",
       "      <td>12</td>\n",
       "    </tr>\n",
       "    <tr>\n",
       "      <th>1556</th>\n",
       "      <td>1557</td>\n",
       "      <td>2011-03-10</td>\n",
       "      <td>1</td>\n",
       "      <td>0</td>\n",
       "      <td>3</td>\n",
       "      <td>7</td>\n",
       "      <td>0</td>\n",
       "      <td>4</td>\n",
       "      <td>1</td>\n",
       "      <td>3</td>\n",
       "      <td>0.38</td>\n",
       "      <td>0.3939</td>\n",
       "      <td>0.0</td>\n",
       "      <td>0.2239</td>\n",
       "      <td>1</td>\n",
       "      <td>36</td>\n",
       "      <td>37</td>\n",
       "    </tr>\n",
       "    <tr>\n",
       "      <th>1557</th>\n",
       "      <td>1558</td>\n",
       "      <td>2011-03-10</td>\n",
       "      <td>1</td>\n",
       "      <td>0</td>\n",
       "      <td>3</td>\n",
       "      <td>8</td>\n",
       "      <td>0</td>\n",
       "      <td>4</td>\n",
       "      <td>1</td>\n",
       "      <td>3</td>\n",
       "      <td>0.38</td>\n",
       "      <td>0.3939</td>\n",
       "      <td>0.0</td>\n",
       "      <td>0.2836</td>\n",
       "      <td>1</td>\n",
       "      <td>43</td>\n",
       "      <td>44</td>\n",
       "    </tr>\n",
       "    <tr>\n",
       "      <th>1558</th>\n",
       "      <td>1559</td>\n",
       "      <td>2011-03-10</td>\n",
       "      <td>1</td>\n",
       "      <td>0</td>\n",
       "      <td>3</td>\n",
       "      <td>9</td>\n",
       "      <td>0</td>\n",
       "      <td>4</td>\n",
       "      <td>1</td>\n",
       "      <td>3</td>\n",
       "      <td>0.40</td>\n",
       "      <td>0.4091</td>\n",
       "      <td>0.0</td>\n",
       "      <td>0.2239</td>\n",
       "      <td>1</td>\n",
       "      <td>23</td>\n",
       "      <td>24</td>\n",
       "    </tr>\n",
       "    <tr>\n",
       "      <th>1559</th>\n",
       "      <td>1560</td>\n",
       "      <td>2011-03-10</td>\n",
       "      <td>1</td>\n",
       "      <td>0</td>\n",
       "      <td>3</td>\n",
       "      <td>10</td>\n",
       "      <td>0</td>\n",
       "      <td>4</td>\n",
       "      <td>1</td>\n",
       "      <td>3</td>\n",
       "      <td>0.40</td>\n",
       "      <td>0.4091</td>\n",
       "      <td>0.0</td>\n",
       "      <td>0.1642</td>\n",
       "      <td>0</td>\n",
       "      <td>17</td>\n",
       "      <td>17</td>\n",
       "    </tr>\n",
       "    <tr>\n",
       "      <th>1560</th>\n",
       "      <td>1561</td>\n",
       "      <td>2011-03-10</td>\n",
       "      <td>1</td>\n",
       "      <td>0</td>\n",
       "      <td>3</td>\n",
       "      <td>11</td>\n",
       "      <td>0</td>\n",
       "      <td>4</td>\n",
       "      <td>1</td>\n",
       "      <td>3</td>\n",
       "      <td>0.40</td>\n",
       "      <td>0.4091</td>\n",
       "      <td>0.0</td>\n",
       "      <td>0.2537</td>\n",
       "      <td>6</td>\n",
       "      <td>5</td>\n",
       "      <td>11</td>\n",
       "    </tr>\n",
       "    <tr>\n",
       "      <th>1561</th>\n",
       "      <td>1562</td>\n",
       "      <td>2011-03-10</td>\n",
       "      <td>1</td>\n",
       "      <td>0</td>\n",
       "      <td>3</td>\n",
       "      <td>12</td>\n",
       "      <td>0</td>\n",
       "      <td>4</td>\n",
       "      <td>1</td>\n",
       "      <td>3</td>\n",
       "      <td>0.42</td>\n",
       "      <td>0.4242</td>\n",
       "      <td>0.0</td>\n",
       "      <td>0.2239</td>\n",
       "      <td>4</td>\n",
       "      <td>30</td>\n",
       "      <td>34</td>\n",
       "    </tr>\n",
       "    <tr>\n",
       "      <th>1562</th>\n",
       "      <td>1563</td>\n",
       "      <td>2011-03-10</td>\n",
       "      <td>1</td>\n",
       "      <td>0</td>\n",
       "      <td>3</td>\n",
       "      <td>13</td>\n",
       "      <td>0</td>\n",
       "      <td>4</td>\n",
       "      <td>1</td>\n",
       "      <td>3</td>\n",
       "      <td>0.42</td>\n",
       "      <td>0.4242</td>\n",
       "      <td>0.0</td>\n",
       "      <td>0.2239</td>\n",
       "      <td>1</td>\n",
       "      <td>11</td>\n",
       "      <td>12</td>\n",
       "    </tr>\n",
       "    <tr>\n",
       "      <th>1563</th>\n",
       "      <td>1564</td>\n",
       "      <td>2011-03-10</td>\n",
       "      <td>1</td>\n",
       "      <td>0</td>\n",
       "      <td>3</td>\n",
       "      <td>14</td>\n",
       "      <td>0</td>\n",
       "      <td>4</td>\n",
       "      <td>1</td>\n",
       "      <td>3</td>\n",
       "      <td>0.44</td>\n",
       "      <td>0.4394</td>\n",
       "      <td>0.0</td>\n",
       "      <td>0.2985</td>\n",
       "      <td>0</td>\n",
       "      <td>12</td>\n",
       "      <td>12</td>\n",
       "    </tr>\n",
       "    <tr>\n",
       "      <th>1564</th>\n",
       "      <td>1565</td>\n",
       "      <td>2011-03-10</td>\n",
       "      <td>1</td>\n",
       "      <td>0</td>\n",
       "      <td>3</td>\n",
       "      <td>15</td>\n",
       "      <td>0</td>\n",
       "      <td>4</td>\n",
       "      <td>1</td>\n",
       "      <td>3</td>\n",
       "      <td>0.44</td>\n",
       "      <td>0.4394</td>\n",
       "      <td>0.0</td>\n",
       "      <td>0.2239</td>\n",
       "      <td>3</td>\n",
       "      <td>11</td>\n",
       "      <td>14</td>\n",
       "    </tr>\n",
       "    <tr>\n",
       "      <th>1565</th>\n",
       "      <td>1566</td>\n",
       "      <td>2011-03-10</td>\n",
       "      <td>1</td>\n",
       "      <td>0</td>\n",
       "      <td>3</td>\n",
       "      <td>16</td>\n",
       "      <td>0</td>\n",
       "      <td>4</td>\n",
       "      <td>1</td>\n",
       "      <td>3</td>\n",
       "      <td>0.42</td>\n",
       "      <td>0.4242</td>\n",
       "      <td>0.0</td>\n",
       "      <td>0.2537</td>\n",
       "      <td>1</td>\n",
       "      <td>20</td>\n",
       "      <td>21</td>\n",
       "    </tr>\n",
       "    <tr>\n",
       "      <th>1566</th>\n",
       "      <td>1567</td>\n",
       "      <td>2011-03-10</td>\n",
       "      <td>1</td>\n",
       "      <td>0</td>\n",
       "      <td>3</td>\n",
       "      <td>17</td>\n",
       "      <td>0</td>\n",
       "      <td>4</td>\n",
       "      <td>1</td>\n",
       "      <td>2</td>\n",
       "      <td>0.44</td>\n",
       "      <td>0.4394</td>\n",
       "      <td>0.0</td>\n",
       "      <td>0.3881</td>\n",
       "      <td>2</td>\n",
       "      <td>109</td>\n",
       "      <td>111</td>\n",
       "    </tr>\n",
       "    <tr>\n",
       "      <th>1567</th>\n",
       "      <td>1568</td>\n",
       "      <td>2011-03-10</td>\n",
       "      <td>1</td>\n",
       "      <td>0</td>\n",
       "      <td>3</td>\n",
       "      <td>18</td>\n",
       "      <td>0</td>\n",
       "      <td>4</td>\n",
       "      <td>1</td>\n",
       "      <td>3</td>\n",
       "      <td>0.44</td>\n",
       "      <td>0.4394</td>\n",
       "      <td>0.0</td>\n",
       "      <td>0.3582</td>\n",
       "      <td>2</td>\n",
       "      <td>80</td>\n",
       "      <td>82</td>\n",
       "    </tr>\n",
       "    <tr>\n",
       "      <th>1568</th>\n",
       "      <td>1569</td>\n",
       "      <td>2011-03-10</td>\n",
       "      <td>1</td>\n",
       "      <td>0</td>\n",
       "      <td>3</td>\n",
       "      <td>19</td>\n",
       "      <td>0</td>\n",
       "      <td>4</td>\n",
       "      <td>1</td>\n",
       "      <td>3</td>\n",
       "      <td>0.44</td>\n",
       "      <td>0.4394</td>\n",
       "      <td>0.0</td>\n",
       "      <td>0.5821</td>\n",
       "      <td>5</td>\n",
       "      <td>51</td>\n",
       "      <td>56</td>\n",
       "    </tr>\n",
       "    <tr>\n",
       "      <th>1569</th>\n",
       "      <td>1570</td>\n",
       "      <td>2011-03-10</td>\n",
       "      <td>1</td>\n",
       "      <td>0</td>\n",
       "      <td>3</td>\n",
       "      <td>20</td>\n",
       "      <td>0</td>\n",
       "      <td>4</td>\n",
       "      <td>1</td>\n",
       "      <td>3</td>\n",
       "      <td>0.36</td>\n",
       "      <td>0.3333</td>\n",
       "      <td>0.0</td>\n",
       "      <td>0.3284</td>\n",
       "      <td>9</td>\n",
       "      <td>29</td>\n",
       "      <td>38</td>\n",
       "    </tr>\n",
       "    <tr>\n",
       "      <th>1570</th>\n",
       "      <td>1571</td>\n",
       "      <td>2011-03-10</td>\n",
       "      <td>1</td>\n",
       "      <td>0</td>\n",
       "      <td>3</td>\n",
       "      <td>21</td>\n",
       "      <td>0</td>\n",
       "      <td>4</td>\n",
       "      <td>1</td>\n",
       "      <td>3</td>\n",
       "      <td>0.36</td>\n",
       "      <td>0.3485</td>\n",
       "      <td>0.0</td>\n",
       "      <td>0.2239</td>\n",
       "      <td>1</td>\n",
       "      <td>27</td>\n",
       "      <td>28</td>\n",
       "    </tr>\n",
       "    <tr>\n",
       "      <th>1571</th>\n",
       "      <td>1572</td>\n",
       "      <td>2011-03-10</td>\n",
       "      <td>1</td>\n",
       "      <td>0</td>\n",
       "      <td>3</td>\n",
       "      <td>22</td>\n",
       "      <td>0</td>\n",
       "      <td>4</td>\n",
       "      <td>1</td>\n",
       "      <td>2</td>\n",
       "      <td>0.34</td>\n",
       "      <td>0.3333</td>\n",
       "      <td>0.0</td>\n",
       "      <td>0.1343</td>\n",
       "      <td>4</td>\n",
       "      <td>30</td>\n",
       "      <td>34</td>\n",
       "    </tr>\n",
       "    <tr>\n",
       "      <th>1572</th>\n",
       "      <td>1573</td>\n",
       "      <td>2011-03-10</td>\n",
       "      <td>1</td>\n",
       "      <td>0</td>\n",
       "      <td>3</td>\n",
       "      <td>23</td>\n",
       "      <td>0</td>\n",
       "      <td>4</td>\n",
       "      <td>1</td>\n",
       "      <td>3</td>\n",
       "      <td>0.34</td>\n",
       "      <td>0.3485</td>\n",
       "      <td>0.0</td>\n",
       "      <td>0.0896</td>\n",
       "      <td>1</td>\n",
       "      <td>26</td>\n",
       "      <td>27</td>\n",
       "    </tr>\n",
       "  </tbody>\n",
       "</table>\n",
       "</div>"
      ],
      "text/plain": [
       "      instant      dteday  season  yr  mnth  hr  holiday  weekday  workingday  \\\n",
       "1551     1552  2011-03-10       1   0     3   0        0        4           1   \n",
       "1552     1553  2011-03-10       1   0     3   1        0        4           1   \n",
       "1553     1554  2011-03-10       1   0     3   2        0        4           1   \n",
       "1554     1555  2011-03-10       1   0     3   5        0        4           1   \n",
       "1555     1556  2011-03-10       1   0     3   6        0        4           1   \n",
       "1556     1557  2011-03-10       1   0     3   7        0        4           1   \n",
       "1557     1558  2011-03-10       1   0     3   8        0        4           1   \n",
       "1558     1559  2011-03-10       1   0     3   9        0        4           1   \n",
       "1559     1560  2011-03-10       1   0     3  10        0        4           1   \n",
       "1560     1561  2011-03-10       1   0     3  11        0        4           1   \n",
       "1561     1562  2011-03-10       1   0     3  12        0        4           1   \n",
       "1562     1563  2011-03-10       1   0     3  13        0        4           1   \n",
       "1563     1564  2011-03-10       1   0     3  14        0        4           1   \n",
       "1564     1565  2011-03-10       1   0     3  15        0        4           1   \n",
       "1565     1566  2011-03-10       1   0     3  16        0        4           1   \n",
       "1566     1567  2011-03-10       1   0     3  17        0        4           1   \n",
       "1567     1568  2011-03-10       1   0     3  18        0        4           1   \n",
       "1568     1569  2011-03-10       1   0     3  19        0        4           1   \n",
       "1569     1570  2011-03-10       1   0     3  20        0        4           1   \n",
       "1570     1571  2011-03-10       1   0     3  21        0        4           1   \n",
       "1571     1572  2011-03-10       1   0     3  22        0        4           1   \n",
       "1572     1573  2011-03-10       1   0     3  23        0        4           1   \n",
       "\n",
       "      weathersit  temp   atemp  hum  windspeed  casual  registered  cnt  \n",
       "1551           3  0.34  0.3182  0.0     0.2537       3           0    3  \n",
       "1552           3  0.34  0.3182  0.0     0.2537       0           2    2  \n",
       "1553           3  0.34  0.3182  0.0     0.2537       0           1    1  \n",
       "1554           3  0.36  0.3485  0.0     0.1940       1           2    3  \n",
       "1555           3  0.36  0.3333  0.0     0.3284       0          12   12  \n",
       "1556           3  0.38  0.3939  0.0     0.2239       1          36   37  \n",
       "1557           3  0.38  0.3939  0.0     0.2836       1          43   44  \n",
       "1558           3  0.40  0.4091  0.0     0.2239       1          23   24  \n",
       "1559           3  0.40  0.4091  0.0     0.1642       0          17   17  \n",
       "1560           3  0.40  0.4091  0.0     0.2537       6           5   11  \n",
       "1561           3  0.42  0.4242  0.0     0.2239       4          30   34  \n",
       "1562           3  0.42  0.4242  0.0     0.2239       1          11   12  \n",
       "1563           3  0.44  0.4394  0.0     0.2985       0          12   12  \n",
       "1564           3  0.44  0.4394  0.0     0.2239       3          11   14  \n",
       "1565           3  0.42  0.4242  0.0     0.2537       1          20   21  \n",
       "1566           2  0.44  0.4394  0.0     0.3881       2         109  111  \n",
       "1567           3  0.44  0.4394  0.0     0.3582       2          80   82  \n",
       "1568           3  0.44  0.4394  0.0     0.5821       5          51   56  \n",
       "1569           3  0.36  0.3333  0.0     0.3284       9          29   38  \n",
       "1570           3  0.36  0.3485  0.0     0.2239       1          27   28  \n",
       "1571           2  0.34  0.3333  0.0     0.1343       4          30   34  \n",
       "1572           3  0.34  0.3485  0.0     0.0896       1          26   27  "
      ]
     },
     "execution_count": 12,
     "metadata": {},
     "output_type": "execute_result"
    }
   ],
   "source": [
    "# Define outliers as values less than Q1 - 1.5 * IQR or greater than Q3 + 1.5 * IQR.\n",
    "lower_bound = Q1 - 1.5 * IQR\n",
    "upper_bound = Q3 + 1.5 * IQR\n",
    "outliers = df2[(df2['hum'] < lower_bound) | (df2['hum'] > upper_bound)]\n",
    "outliers"
   ]
  },
  {
   "cell_type": "code",
   "execution_count": 33,
   "metadata": {},
   "outputs": [
    {
     "data": {
      "text/html": [
       "<div>\n",
       "<style scoped>\n",
       "    .dataframe tbody tr th:only-of-type {\n",
       "        vertical-align: middle;\n",
       "    }\n",
       "\n",
       "    .dataframe tbody tr th {\n",
       "        vertical-align: top;\n",
       "    }\n",
       "\n",
       "    .dataframe thead th {\n",
       "        text-align: right;\n",
       "    }\n",
       "</style>\n",
       "<table border=\"1\" class=\"dataframe\">\n",
       "  <thead>\n",
       "    <tr style=\"text-align: right;\">\n",
       "      <th></th>\n",
       "      <th>dteday</th>\n",
       "      <th>temp</th>\n",
       "      <th>hum</th>\n",
       "      <th>casual</th>\n",
       "      <th>registered</th>\n",
       "    </tr>\n",
       "  </thead>\n",
       "  <tbody>\n",
       "    <tr>\n",
       "      <th>1551</th>\n",
       "      <td>2011-03-10</td>\n",
       "      <td>0.34</td>\n",
       "      <td>0.0</td>\n",
       "      <td>3</td>\n",
       "      <td>0</td>\n",
       "    </tr>\n",
       "    <tr>\n",
       "      <th>1552</th>\n",
       "      <td>2011-03-10</td>\n",
       "      <td>0.34</td>\n",
       "      <td>0.0</td>\n",
       "      <td>0</td>\n",
       "      <td>2</td>\n",
       "    </tr>\n",
       "    <tr>\n",
       "      <th>1553</th>\n",
       "      <td>2011-03-10</td>\n",
       "      <td>0.34</td>\n",
       "      <td>0.0</td>\n",
       "      <td>0</td>\n",
       "      <td>1</td>\n",
       "    </tr>\n",
       "    <tr>\n",
       "      <th>1554</th>\n",
       "      <td>2011-03-10</td>\n",
       "      <td>0.36</td>\n",
       "      <td>0.0</td>\n",
       "      <td>1</td>\n",
       "      <td>2</td>\n",
       "    </tr>\n",
       "    <tr>\n",
       "      <th>1555</th>\n",
       "      <td>2011-03-10</td>\n",
       "      <td>0.36</td>\n",
       "      <td>0.0</td>\n",
       "      <td>0</td>\n",
       "      <td>12</td>\n",
       "    </tr>\n",
       "    <tr>\n",
       "      <th>1556</th>\n",
       "      <td>2011-03-10</td>\n",
       "      <td>0.38</td>\n",
       "      <td>0.0</td>\n",
       "      <td>1</td>\n",
       "      <td>36</td>\n",
       "    </tr>\n",
       "    <tr>\n",
       "      <th>1557</th>\n",
       "      <td>2011-03-10</td>\n",
       "      <td>0.38</td>\n",
       "      <td>0.0</td>\n",
       "      <td>1</td>\n",
       "      <td>43</td>\n",
       "    </tr>\n",
       "    <tr>\n",
       "      <th>1558</th>\n",
       "      <td>2011-03-10</td>\n",
       "      <td>0.40</td>\n",
       "      <td>0.0</td>\n",
       "      <td>1</td>\n",
       "      <td>23</td>\n",
       "    </tr>\n",
       "    <tr>\n",
       "      <th>1559</th>\n",
       "      <td>2011-03-10</td>\n",
       "      <td>0.40</td>\n",
       "      <td>0.0</td>\n",
       "      <td>0</td>\n",
       "      <td>17</td>\n",
       "    </tr>\n",
       "    <tr>\n",
       "      <th>1560</th>\n",
       "      <td>2011-03-10</td>\n",
       "      <td>0.40</td>\n",
       "      <td>0.0</td>\n",
       "      <td>6</td>\n",
       "      <td>5</td>\n",
       "    </tr>\n",
       "    <tr>\n",
       "      <th>1561</th>\n",
       "      <td>2011-03-10</td>\n",
       "      <td>0.42</td>\n",
       "      <td>0.0</td>\n",
       "      <td>4</td>\n",
       "      <td>30</td>\n",
       "    </tr>\n",
       "    <tr>\n",
       "      <th>1562</th>\n",
       "      <td>2011-03-10</td>\n",
       "      <td>0.42</td>\n",
       "      <td>0.0</td>\n",
       "      <td>1</td>\n",
       "      <td>11</td>\n",
       "    </tr>\n",
       "    <tr>\n",
       "      <th>1563</th>\n",
       "      <td>2011-03-10</td>\n",
       "      <td>0.44</td>\n",
       "      <td>0.0</td>\n",
       "      <td>0</td>\n",
       "      <td>12</td>\n",
       "    </tr>\n",
       "    <tr>\n",
       "      <th>1564</th>\n",
       "      <td>2011-03-10</td>\n",
       "      <td>0.44</td>\n",
       "      <td>0.0</td>\n",
       "      <td>3</td>\n",
       "      <td>11</td>\n",
       "    </tr>\n",
       "    <tr>\n",
       "      <th>1565</th>\n",
       "      <td>2011-03-10</td>\n",
       "      <td>0.42</td>\n",
       "      <td>0.0</td>\n",
       "      <td>1</td>\n",
       "      <td>20</td>\n",
       "    </tr>\n",
       "    <tr>\n",
       "      <th>1566</th>\n",
       "      <td>2011-03-10</td>\n",
       "      <td>0.44</td>\n",
       "      <td>0.0</td>\n",
       "      <td>2</td>\n",
       "      <td>109</td>\n",
       "    </tr>\n",
       "    <tr>\n",
       "      <th>1567</th>\n",
       "      <td>2011-03-10</td>\n",
       "      <td>0.44</td>\n",
       "      <td>0.0</td>\n",
       "      <td>2</td>\n",
       "      <td>80</td>\n",
       "    </tr>\n",
       "    <tr>\n",
       "      <th>1568</th>\n",
       "      <td>2011-03-10</td>\n",
       "      <td>0.44</td>\n",
       "      <td>0.0</td>\n",
       "      <td>5</td>\n",
       "      <td>51</td>\n",
       "    </tr>\n",
       "    <tr>\n",
       "      <th>1569</th>\n",
       "      <td>2011-03-10</td>\n",
       "      <td>0.36</td>\n",
       "      <td>0.0</td>\n",
       "      <td>9</td>\n",
       "      <td>29</td>\n",
       "    </tr>\n",
       "    <tr>\n",
       "      <th>1570</th>\n",
       "      <td>2011-03-10</td>\n",
       "      <td>0.36</td>\n",
       "      <td>0.0</td>\n",
       "      <td>1</td>\n",
       "      <td>27</td>\n",
       "    </tr>\n",
       "    <tr>\n",
       "      <th>1571</th>\n",
       "      <td>2011-03-10</td>\n",
       "      <td>0.34</td>\n",
       "      <td>0.0</td>\n",
       "      <td>4</td>\n",
       "      <td>30</td>\n",
       "    </tr>\n",
       "    <tr>\n",
       "      <th>1572</th>\n",
       "      <td>2011-03-10</td>\n",
       "      <td>0.34</td>\n",
       "      <td>0.0</td>\n",
       "      <td>1</td>\n",
       "      <td>26</td>\n",
       "    </tr>\n",
       "  </tbody>\n",
       "</table>\n",
       "</div>"
      ],
      "text/plain": [
       "          dteday  temp  hum  casual  registered\n",
       "1551  2011-03-10  0.34  0.0       3           0\n",
       "1552  2011-03-10  0.34  0.0       0           2\n",
       "1553  2011-03-10  0.34  0.0       0           1\n",
       "1554  2011-03-10  0.36  0.0       1           2\n",
       "1555  2011-03-10  0.36  0.0       0          12\n",
       "1556  2011-03-10  0.38  0.0       1          36\n",
       "1557  2011-03-10  0.38  0.0       1          43\n",
       "1558  2011-03-10  0.40  0.0       1          23\n",
       "1559  2011-03-10  0.40  0.0       0          17\n",
       "1560  2011-03-10  0.40  0.0       6           5\n",
       "1561  2011-03-10  0.42  0.0       4          30\n",
       "1562  2011-03-10  0.42  0.0       1          11\n",
       "1563  2011-03-10  0.44  0.0       0          12\n",
       "1564  2011-03-10  0.44  0.0       3          11\n",
       "1565  2011-03-10  0.42  0.0       1          20\n",
       "1566  2011-03-10  0.44  0.0       2         109\n",
       "1567  2011-03-10  0.44  0.0       2          80\n",
       "1568  2011-03-10  0.44  0.0       5          51\n",
       "1569  2011-03-10  0.36  0.0       9          29\n",
       "1570  2011-03-10  0.36  0.0       1          27\n",
       "1571  2011-03-10  0.34  0.0       4          30\n",
       "1572  2011-03-10  0.34  0.0       1          26"
      ]
     },
     "execution_count": 33,
     "metadata": {},
     "output_type": "execute_result"
    }
   ],
   "source": [
    "# Create a DataFrame of cars classified as outliers, displaying car_name, mpg, and model_year\n",
    "outliers_df = outliers[['dteday', 'temp', 'hum', 'casual', 'registered']]\n",
    "outliers_df"
   ]
  },
  {
   "cell_type": "markdown",
   "metadata": {
    "id": "14sUq8ZF4E88"
   },
   "source": [
    "## Q.14 Find the correlation between numerical columns and discuss any interesting relationships."
   ]
  },
  {
   "cell_type": "code",
   "execution_count": 13,
   "metadata": {
    "id": "jnAOuuwt4Hmb"
   },
   "outputs": [
    {
     "data": {
      "text/html": [
       "<div>\n",
       "<style scoped>\n",
       "    .dataframe tbody tr th:only-of-type {\n",
       "        vertical-align: middle;\n",
       "    }\n",
       "\n",
       "    .dataframe tbody tr th {\n",
       "        vertical-align: top;\n",
       "    }\n",
       "\n",
       "    .dataframe thead th {\n",
       "        text-align: right;\n",
       "    }\n",
       "</style>\n",
       "<table border=\"1\" class=\"dataframe\">\n",
       "  <thead>\n",
       "    <tr style=\"text-align: right;\">\n",
       "      <th></th>\n",
       "      <th>instant</th>\n",
       "      <th>season</th>\n",
       "      <th>yr</th>\n",
       "      <th>mnth</th>\n",
       "      <th>hr</th>\n",
       "      <th>holiday</th>\n",
       "      <th>weekday</th>\n",
       "      <th>workingday</th>\n",
       "      <th>weathersit</th>\n",
       "      <th>temp</th>\n",
       "      <th>atemp</th>\n",
       "      <th>hum</th>\n",
       "      <th>windspeed</th>\n",
       "      <th>casual</th>\n",
       "      <th>registered</th>\n",
       "      <th>cnt</th>\n",
       "    </tr>\n",
       "  </thead>\n",
       "  <tbody>\n",
       "    <tr>\n",
       "      <th>0</th>\n",
       "      <td>1</td>\n",
       "      <td>1</td>\n",
       "      <td>0</td>\n",
       "      <td>1</td>\n",
       "      <td>0</td>\n",
       "      <td>0</td>\n",
       "      <td>6</td>\n",
       "      <td>0</td>\n",
       "      <td>1</td>\n",
       "      <td>0.24</td>\n",
       "      <td>0.2879</td>\n",
       "      <td>0.81</td>\n",
       "      <td>0.0000</td>\n",
       "      <td>3</td>\n",
       "      <td>13</td>\n",
       "      <td>16</td>\n",
       "    </tr>\n",
       "    <tr>\n",
       "      <th>1</th>\n",
       "      <td>2</td>\n",
       "      <td>1</td>\n",
       "      <td>0</td>\n",
       "      <td>1</td>\n",
       "      <td>1</td>\n",
       "      <td>0</td>\n",
       "      <td>6</td>\n",
       "      <td>0</td>\n",
       "      <td>1</td>\n",
       "      <td>0.22</td>\n",
       "      <td>0.2727</td>\n",
       "      <td>0.80</td>\n",
       "      <td>0.0000</td>\n",
       "      <td>8</td>\n",
       "      <td>32</td>\n",
       "      <td>40</td>\n",
       "    </tr>\n",
       "    <tr>\n",
       "      <th>2</th>\n",
       "      <td>3</td>\n",
       "      <td>1</td>\n",
       "      <td>0</td>\n",
       "      <td>1</td>\n",
       "      <td>2</td>\n",
       "      <td>0</td>\n",
       "      <td>6</td>\n",
       "      <td>0</td>\n",
       "      <td>1</td>\n",
       "      <td>0.22</td>\n",
       "      <td>0.2727</td>\n",
       "      <td>0.80</td>\n",
       "      <td>0.0000</td>\n",
       "      <td>5</td>\n",
       "      <td>27</td>\n",
       "      <td>32</td>\n",
       "    </tr>\n",
       "    <tr>\n",
       "      <th>3</th>\n",
       "      <td>4</td>\n",
       "      <td>1</td>\n",
       "      <td>0</td>\n",
       "      <td>1</td>\n",
       "      <td>3</td>\n",
       "      <td>0</td>\n",
       "      <td>6</td>\n",
       "      <td>0</td>\n",
       "      <td>1</td>\n",
       "      <td>0.24</td>\n",
       "      <td>0.2879</td>\n",
       "      <td>0.75</td>\n",
       "      <td>0.0000</td>\n",
       "      <td>3</td>\n",
       "      <td>10</td>\n",
       "      <td>13</td>\n",
       "    </tr>\n",
       "    <tr>\n",
       "      <th>4</th>\n",
       "      <td>5</td>\n",
       "      <td>1</td>\n",
       "      <td>0</td>\n",
       "      <td>1</td>\n",
       "      <td>4</td>\n",
       "      <td>0</td>\n",
       "      <td>6</td>\n",
       "      <td>0</td>\n",
       "      <td>1</td>\n",
       "      <td>0.24</td>\n",
       "      <td>0.2879</td>\n",
       "      <td>0.75</td>\n",
       "      <td>0.0000</td>\n",
       "      <td>0</td>\n",
       "      <td>1</td>\n",
       "      <td>1</td>\n",
       "    </tr>\n",
       "    <tr>\n",
       "      <th>...</th>\n",
       "      <td>...</td>\n",
       "      <td>...</td>\n",
       "      <td>...</td>\n",
       "      <td>...</td>\n",
       "      <td>...</td>\n",
       "      <td>...</td>\n",
       "      <td>...</td>\n",
       "      <td>...</td>\n",
       "      <td>...</td>\n",
       "      <td>...</td>\n",
       "      <td>...</td>\n",
       "      <td>...</td>\n",
       "      <td>...</td>\n",
       "      <td>...</td>\n",
       "      <td>...</td>\n",
       "      <td>...</td>\n",
       "    </tr>\n",
       "    <tr>\n",
       "      <th>17374</th>\n",
       "      <td>17375</td>\n",
       "      <td>1</td>\n",
       "      <td>1</td>\n",
       "      <td>12</td>\n",
       "      <td>19</td>\n",
       "      <td>0</td>\n",
       "      <td>1</td>\n",
       "      <td>1</td>\n",
       "      <td>2</td>\n",
       "      <td>0.26</td>\n",
       "      <td>0.2576</td>\n",
       "      <td>0.60</td>\n",
       "      <td>0.1642</td>\n",
       "      <td>11</td>\n",
       "      <td>108</td>\n",
       "      <td>119</td>\n",
       "    </tr>\n",
       "    <tr>\n",
       "      <th>17375</th>\n",
       "      <td>17376</td>\n",
       "      <td>1</td>\n",
       "      <td>1</td>\n",
       "      <td>12</td>\n",
       "      <td>20</td>\n",
       "      <td>0</td>\n",
       "      <td>1</td>\n",
       "      <td>1</td>\n",
       "      <td>2</td>\n",
       "      <td>0.26</td>\n",
       "      <td>0.2576</td>\n",
       "      <td>0.60</td>\n",
       "      <td>0.1642</td>\n",
       "      <td>8</td>\n",
       "      <td>81</td>\n",
       "      <td>89</td>\n",
       "    </tr>\n",
       "    <tr>\n",
       "      <th>17376</th>\n",
       "      <td>17377</td>\n",
       "      <td>1</td>\n",
       "      <td>1</td>\n",
       "      <td>12</td>\n",
       "      <td>21</td>\n",
       "      <td>0</td>\n",
       "      <td>1</td>\n",
       "      <td>1</td>\n",
       "      <td>1</td>\n",
       "      <td>0.26</td>\n",
       "      <td>0.2576</td>\n",
       "      <td>0.60</td>\n",
       "      <td>0.1642</td>\n",
       "      <td>7</td>\n",
       "      <td>83</td>\n",
       "      <td>90</td>\n",
       "    </tr>\n",
       "    <tr>\n",
       "      <th>17377</th>\n",
       "      <td>17378</td>\n",
       "      <td>1</td>\n",
       "      <td>1</td>\n",
       "      <td>12</td>\n",
       "      <td>22</td>\n",
       "      <td>0</td>\n",
       "      <td>1</td>\n",
       "      <td>1</td>\n",
       "      <td>1</td>\n",
       "      <td>0.26</td>\n",
       "      <td>0.2727</td>\n",
       "      <td>0.56</td>\n",
       "      <td>0.1343</td>\n",
       "      <td>13</td>\n",
       "      <td>48</td>\n",
       "      <td>61</td>\n",
       "    </tr>\n",
       "    <tr>\n",
       "      <th>17378</th>\n",
       "      <td>17379</td>\n",
       "      <td>1</td>\n",
       "      <td>1</td>\n",
       "      <td>12</td>\n",
       "      <td>23</td>\n",
       "      <td>0</td>\n",
       "      <td>1</td>\n",
       "      <td>1</td>\n",
       "      <td>1</td>\n",
       "      <td>0.26</td>\n",
       "      <td>0.2727</td>\n",
       "      <td>0.65</td>\n",
       "      <td>0.1343</td>\n",
       "      <td>12</td>\n",
       "      <td>37</td>\n",
       "      <td>49</td>\n",
       "    </tr>\n",
       "  </tbody>\n",
       "</table>\n",
       "<p>17379 rows × 16 columns</p>\n",
       "</div>"
      ],
      "text/plain": [
       "       instant  season  yr  mnth  hr  holiday  weekday  workingday  \\\n",
       "0            1       1   0     1   0        0        6           0   \n",
       "1            2       1   0     1   1        0        6           0   \n",
       "2            3       1   0     1   2        0        6           0   \n",
       "3            4       1   0     1   3        0        6           0   \n",
       "4            5       1   0     1   4        0        6           0   \n",
       "...        ...     ...  ..   ...  ..      ...      ...         ...   \n",
       "17374    17375       1   1    12  19        0        1           1   \n",
       "17375    17376       1   1    12  20        0        1           1   \n",
       "17376    17377       1   1    12  21        0        1           1   \n",
       "17377    17378       1   1    12  22        0        1           1   \n",
       "17378    17379       1   1    12  23        0        1           1   \n",
       "\n",
       "       weathersit  temp   atemp   hum  windspeed  casual  registered  cnt  \n",
       "0               1  0.24  0.2879  0.81     0.0000       3          13   16  \n",
       "1               1  0.22  0.2727  0.80     0.0000       8          32   40  \n",
       "2               1  0.22  0.2727  0.80     0.0000       5          27   32  \n",
       "3               1  0.24  0.2879  0.75     0.0000       3          10   13  \n",
       "4               1  0.24  0.2879  0.75     0.0000       0           1    1  \n",
       "...           ...   ...     ...   ...        ...     ...         ...  ...  \n",
       "17374           2  0.26  0.2576  0.60     0.1642      11         108  119  \n",
       "17375           2  0.26  0.2576  0.60     0.1642       8          81   89  \n",
       "17376           1  0.26  0.2576  0.60     0.1642       7          83   90  \n",
       "17377           1  0.26  0.2727  0.56     0.1343      13          48   61  \n",
       "17378           1  0.26  0.2727  0.65     0.1343      12          37   49  \n",
       "\n",
       "[17379 rows x 16 columns]"
      ]
     },
     "execution_count": 13,
     "metadata": {},
     "output_type": "execute_result"
    }
   ],
   "source": [
    "df3 = df2.drop( [\"dteday\"], axis = 1)\n",
    "df3"
   ]
  },
  {
   "cell_type": "code",
   "execution_count": 14,
   "metadata": {},
   "outputs": [
    {
     "data": {
      "text/plain": [
       "<Axes: >"
      ]
     },
     "execution_count": 14,
     "metadata": {},
     "output_type": "execute_result"
    },
    {
     "data": {
      "image/png": "[encoded data removed]",
      "text/plain": [
       "<Figure size 1800x1600 with 2 Axes>"
      ]
     },
     "metadata": {},
     "output_type": "display_data"
    }
   ],
   "source": [
    "import seaborn as sns\n",
    "import matplotlib.pyplot as plt\n",
    "plt.figure(figsize=(18,16))\n",
    "sns.heatmap(df3.corr(), annot = True, cmap=\"PiYG\")\n"
   ]
  },
  {
   "cell_type": "markdown",
   "metadata": {
    "id": "ru-xlbd44IAY"
   },
   "source": [
    "## Q.15 Based on your analysis, provide a brief summary of any insights or patterns you discovered in the dataset."
   ]
  },
  {
   "cell_type": "markdown",
   "metadata": {
    "id": "15NUIdxK4I03"
   },
   "source": [
    "- Humidity is negatively correlated to the no.of casual members taking out rented bikes.\n",
    "- Humidity is also nragatively correlated to the hr at which bikes are taken out.\n",
    "- Casual riders are less on working day as they are neagatively correlated."
   ]
  },
  {
   "cell_type": "markdown",
   "metadata": {
    "id": "iMGro15Q5WhF"
   },
   "source": [
    "## Q.16 In which season (Spring, Summer, Fall, Winter) people rented bikes the most?"
   ]
  },
  {
   "cell_type": "code",
   "execution_count": 28,
   "metadata": {
    "id": "KhlVV_bK5jxm"
   },
   "outputs": [
    {
     "data": {
      "text/plain": [
       "season\n",
       "3    1061129\n",
       "Name: cnt, dtype: int64"
      ]
     },
     "execution_count": 28,
     "metadata": {},
     "output_type": "execute_result"
    }
   ],
   "source": [
    "grpby_season = df2.groupby(\"season\")\n",
    "Count_bikeby_season = grpby_season.sum(\"cnt\").sort_values(by= [\"cnt\"],ascending = False)\n",
    "Count_bikeby_season[\"cnt\"].head(1)"
   ]
  },
  {
   "cell_type": "markdown",
   "metadata": {
    "id": "eudb_1Lb5sVc"
   },
   "source": [
    "## Q.17 What is the peak hour in which bike rents the most?"
   ]
  },
  {
   "cell_type": "code",
   "execution_count": 27,
   "metadata": {
    "id": "p0xSgv8g50yt"
   },
   "outputs": [
    {
     "data": {
      "text/plain": [
       "hr\n",
       "17    336860\n",
       "Name: cnt, dtype: int64"
      ]
     },
     "execution_count": 27,
     "metadata": {},
     "output_type": "execute_result"
    }
   ],
   "source": [
    "grpby_hour = df2.groupby(\"hr\")\n",
    "peak_hour = grpby_hour.sum(\"cnt\").sort_values(by= [\"cnt\"],ascending = False)\n",
    "peak_hour[\"cnt\"].head(1)"
   ]
  },
  {
   "cell_type": "markdown",
   "metadata": {
    "id": "y7rArqGQ6ji4"
   },
   "source": [
    "## Q.18 In which day of a week bikes rents out most?"
   ]
  },
  {
   "cell_type": "code",
   "execution_count": 29,
   "metadata": {
    "id": "6GPCbpsx6oYE"
   },
   "outputs": [
    {
     "data": {
      "text/plain": [
       "weekday\n",
       "5    487790\n",
       "Name: cnt, dtype: int64"
      ]
     },
     "execution_count": 29,
     "metadata": {},
     "output_type": "execute_result"
    }
   ],
   "source": [
    "grpby_day = df2.groupby(\"weekday\")\n",
    "peak_weekday = grpby_day.sum(\"cnt\").sort_values(by= [\"cnt\"],ascending = False)\n",
    "peak_weekday[\"cnt\"].head(1)"
   ]
  },
  {
   "cell_type": "markdown",
   "metadata": {
    "id": "bFO_Twk66qw-"
   },
   "source": [
    "## Q.19 In which hour Casual users rents bikes the most?"
   ]
  },
  {
   "cell_type": "code",
   "execution_count": 30,
   "metadata": {
    "id": "59CHoEUt66GR"
   },
   "outputs": [
    {
     "data": {
      "text/plain": [
       "hr\n",
       "14    55089\n",
       "Name: casual, dtype: int64"
      ]
     },
     "execution_count": 30,
     "metadata": {},
     "output_type": "execute_result"
    }
   ],
   "source": [
    "grpby_hour_casual = df2.groupby(\"hr\")\n",
    "peak_hour_casual = grpby_hour_casual.sum(\"casual\").sort_values(by= [\"casual\"],ascending = False)\n",
    "peak_hour_casual[\"casual\"].head(1)"
   ]
  },
  {
   "cell_type": "markdown",
   "metadata": {
    "id": "wtvgNN-U69rh"
   },
   "source": [
    "## Q.20 What is the maximum temperature observed in each of the seasons?"
   ]
  },
  {
   "cell_type": "code",
   "execution_count": 75,
   "metadata": {
    "id": "U_NwDHv57tLT"
   },
   "outputs": [
    {
     "data": {
      "text/html": [
       "<div>\n",
       "<style scoped>\n",
       "    .dataframe tbody tr th:only-of-type {\n",
       "        vertical-align: middle;\n",
       "    }\n",
       "\n",
       "    .dataframe tbody tr th {\n",
       "        vertical-align: top;\n",
       "    }\n",
       "\n",
       "    .dataframe thead th {\n",
       "        text-align: right;\n",
       "    }\n",
       "</style>\n",
       "<table border=\"1\" class=\"dataframe\">\n",
       "  <thead>\n",
       "    <tr style=\"text-align: right;\">\n",
       "      <th></th>\n",
       "      <th>instant</th>\n",
       "      <th>yr</th>\n",
       "      <th>mnth</th>\n",
       "      <th>hr</th>\n",
       "      <th>holiday</th>\n",
       "      <th>weekday</th>\n",
       "      <th>workingday</th>\n",
       "      <th>weathersit</th>\n",
       "      <th>temp</th>\n",
       "      <th>atemp</th>\n",
       "      <th>hum</th>\n",
       "      <th>windspeed</th>\n",
       "      <th>casual</th>\n",
       "      <th>registered</th>\n",
       "      <th>cnt</th>\n",
       "    </tr>\n",
       "    <tr>\n",
       "      <th>season</th>\n",
       "      <th></th>\n",
       "      <th></th>\n",
       "      <th></th>\n",
       "      <th></th>\n",
       "      <th></th>\n",
       "      <th></th>\n",
       "      <th></th>\n",
       "      <th></th>\n",
       "      <th></th>\n",
       "      <th></th>\n",
       "      <th></th>\n",
       "      <th></th>\n",
       "      <th></th>\n",
       "      <th></th>\n",
       "      <th></th>\n",
       "    </tr>\n",
       "  </thead>\n",
       "  <tbody>\n",
       "    <tr>\n",
       "      <th>1</th>\n",
       "      <td>17379</td>\n",
       "      <td>1</td>\n",
       "      <td>12</td>\n",
       "      <td>23</td>\n",
       "      <td>1</td>\n",
       "      <td>6</td>\n",
       "      <td>1</td>\n",
       "      <td>4</td>\n",
       "      <td>0.72</td>\n",
       "      <td>0.6515</td>\n",
       "      <td>1.0</td>\n",
       "      <td>0.8060</td>\n",
       "      <td>367</td>\n",
       "      <td>681</td>\n",
       "      <td>801</td>\n",
       "    </tr>\n",
       "    <tr>\n",
       "      <th>2</th>\n",
       "      <td>12763</td>\n",
       "      <td>1</td>\n",
       "      <td>6</td>\n",
       "      <td>23</td>\n",
       "      <td>1</td>\n",
       "      <td>6</td>\n",
       "      <td>1</td>\n",
       "      <td>3</td>\n",
       "      <td>0.94</td>\n",
       "      <td>0.8788</td>\n",
       "      <td>1.0</td>\n",
       "      <td>0.7164</td>\n",
       "      <td>361</td>\n",
       "      <td>782</td>\n",
       "      <td>957</td>\n",
       "    </tr>\n",
       "    <tr>\n",
       "      <th>3</th>\n",
       "      <td>15019</td>\n",
       "      <td>1</td>\n",
       "      <td>9</td>\n",
       "      <td>23</td>\n",
       "      <td>1</td>\n",
       "      <td>6</td>\n",
       "      <td>1</td>\n",
       "      <td>3</td>\n",
       "      <td>1.00</td>\n",
       "      <td>1.0000</td>\n",
       "      <td>1.0</td>\n",
       "      <td>0.8507</td>\n",
       "      <td>350</td>\n",
       "      <td>886</td>\n",
       "      <td>977</td>\n",
       "    </tr>\n",
       "    <tr>\n",
       "      <th>4</th>\n",
       "      <td>17117</td>\n",
       "      <td>1</td>\n",
       "      <td>12</td>\n",
       "      <td>23</td>\n",
       "      <td>1</td>\n",
       "      <td>6</td>\n",
       "      <td>1</td>\n",
       "      <td>3</td>\n",
       "      <td>0.76</td>\n",
       "      <td>0.6818</td>\n",
       "      <td>1.0</td>\n",
       "      <td>0.6418</td>\n",
       "      <td>362</td>\n",
       "      <td>876</td>\n",
       "      <td>967</td>\n",
       "    </tr>\n",
       "  </tbody>\n",
       "</table>\n",
       "</div>"
      ],
      "text/plain": [
       "        instant  yr  mnth  hr  holiday  weekday  workingday  weathersit  temp  \\\n",
       "season                                                                          \n",
       "1         17379   1    12  23        1        6           1           4  0.72   \n",
       "2         12763   1     6  23        1        6           1           3  0.94   \n",
       "3         15019   1     9  23        1        6           1           3  1.00   \n",
       "4         17117   1    12  23        1        6           1           3  0.76   \n",
       "\n",
       "         atemp  hum  windspeed  casual  registered  cnt  \n",
       "season                                                   \n",
       "1       0.6515  1.0     0.8060     367         681  801  \n",
       "2       0.8788  1.0     0.7164     361         782  957  \n",
       "3       1.0000  1.0     0.8507     350         886  977  \n",
       "4       0.6818  1.0     0.6418     362         876  967  "
      ]
     },
     "execution_count": 75,
     "metadata": {},
     "output_type": "execute_result"
    }
   ],
   "source": [
    "grpby_season = df2.groupby(\"season\")\n",
    "max_temp_season = grpby_season.max(\"temp\")\n",
    "max_temp_season"
   ]
  },
  {
   "cell_type": "code",
   "execution_count": null,
   "metadata": {},
   "outputs": [],
   "source": []
  }
 ],
 "metadata": {
  "colab": {
   "provenance": []
  },
  "kernelspec": {
   "display_name": "Python 3 (ipykernel)",
   "language": "python",
   "name": "python3"
  },
  "language_info": {
   "codemirror_mode": {
    "name": "ipython",
    "version": 3
   },
   "file_extension": ".py",
   "mimetype": "text/x-python",
   "name": "python",
   "nbconvert_exporter": "python",
   "pygments_lexer": "ipython3",
   "version": "3.12.7"
  }
 },
 "nbformat": 4,
 "nbformat_minor": 4
}
