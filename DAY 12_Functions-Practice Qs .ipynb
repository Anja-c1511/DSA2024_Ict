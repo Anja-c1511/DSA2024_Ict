{
 "cells": [
  {
   "cell_type": "markdown",
   "id": "0fe57433-eac7-47d9-b72a-496ce0466348",
   "metadata": {},
   "source": [
    "# Practice Questions"
   ]
  },
  {
   "cell_type": "markdown",
   "id": "491e69e8-7fdb-4986-8be0-9f72ca8d0728",
   "metadata": {},
   "source": [
    "### 1. Find the L2 norm or magnitude of a vector x=[1,2,3]"
   ]
  },
  {
   "cell_type": "code",
   "execution_count": 31,
   "id": "b141ca47-77d6-4194-b113-e3a4d9cea880",
   "metadata": {},
   "outputs": [
    {
     "data": {
      "text/plain": [
       "4.242640687119285"
      ]
     },
     "execution_count": 31,
     "metadata": {},
     "output_type": "execute_result"
    }
   ],
   "source": [
    "import math\n",
    "num_squr = 0\n",
    "def my_ltwo_norm(x):\n",
    "     for n in x:\n",
    "        num_squr = n**2\n",
    "        num_squr += n**2\n",
    "        ltwo_norm = math.sqrt(num_squr)\n",
    "     return ltwo_norm\n",
    "x = [1,2,3]    \n",
    "my_ltwo_norm(x)"
   ]
  },
  {
   "cell_type": "markdown",
   "id": "d4ac0527-de81-4c51-9bc0-5535056afe8e",
   "metadata": {},
   "source": [
    "### 2. Write a program to check whether given two vectors of equal length are orthoganal to each other\n",
    "     # Input: Two numeric vectors of equal length\n",
    "     # Output: True or False"
   ]
  },
  {
   "cell_type": "code",
   "execution_count": 37,
   "id": "228d910a-baea-4a40-9435-4a98d23f9ee7",
   "metadata": {},
   "outputs": [
    {
     "data": {
      "text/plain": [
       "True"
      ]
     },
     "execution_count": 37,
     "metadata": {},
     "output_type": "execute_result"
    }
   ],
   "source": [
    "# if dot product is zero, then vectors are orthogonal.\n",
    "import numpy as np\n",
    "v1 = np.array([1, 0])\n",
    "v2 = np.array([0, 1])\n",
    "v2t = v2.T\n",
    "dot_product = np.dot(v1,v2t)\n",
    "dot_product == 0\n"
   ]
  },
  {
   "cell_type": "code",
   "execution_count": 38,
   "id": "f02e56d9-f919-4c21-bef9-a49e51ae0ddb",
   "metadata": {},
   "outputs": [
    {
     "data": {
      "text/plain": [
       "False"
      ]
     },
     "execution_count": 38,
     "metadata": {},
     "output_type": "execute_result"
    }
   ],
   "source": [
    "import numpy as np\n",
    "v1 = np.array([1, 2, 3])\n",
    "v2 = np.array([3, 4, 1])\n",
    "v2t = v2.T\n",
    "dot_product = np.dot(v1,v2t)\n",
    "dot_product == 0"
   ]
  },
  {
   "cell_type": "markdown",
   "id": "f23f3189-f244-44bf-b4d3-25352a870daa",
   "metadata": {},
   "source": [
    "### 3. Write a function to compute median value of a list of numbers\n",
    "    # Input: List of numbers as input\n",
    "    # Output: Median value"
   ]
  },
  {
   "cell_type": "code",
   "execution_count": 16,
   "id": "9c609b08-f158-4d10-bf6b-7e2bde58fe05",
   "metadata": {},
   "outputs": [
    {
     "name": "stdout",
     "output_type": "stream",
     "text": [
      "[-7, 2, 3, 4, 5, 5, 6, 7, 7, 8]\n"
     ]
    }
   ],
   "source": [
    "# learning sort function\n",
    "x = [2, -7, 3, 5, 8, 6, 7, 7, 4, 5] \n",
    "x.sort()\n",
    "x_asc= sorted(x)\n",
    "print(x_asc)"
   ]
  },
  {
   "cell_type": "code",
   "execution_count": 25,
   "id": "9521904e-7faf-4e88-9df4-ed630ad692fe",
   "metadata": {},
   "outputs": [
    {
     "name": "stdout",
     "output_type": "stream",
     "text": [
      "Median = 5.0\n"
     ]
    }
   ],
   "source": [
    "x = [2, -7, 3, 5, 8, 6, 7, 7, 4, 5]\n",
    "def my_median(x):\n",
    "   x_asc = sorted(x) # sorted list\n",
    "   n = len(x_asc)\n",
    "   if n % 2 == 0:\n",
    "       median = (x_asc[n//2] + x_asc[(n//2)-1])/2 # when no. of items is even\n",
    "   else:\n",
    "       median = x_asc[n//2] # when no. of items is odd\n",
    "   print(\"Median =\", median)\n",
    "my_median(x)       \n",
    "          "
   ]
  },
  {
   "cell_type": "markdown",
   "id": "16440057-07ca-4030-a078-2d2d24f560a0",
   "metadata": {},
   "source": [
    "### 4. Write program to multipliy a row vector (List) with a matrix (2D List). \n",
    "    # You can assume that the dimension of row vector is same as number of columns in matrix"
   ]
  },
  {
   "cell_type": "code",
   "execution_count": 45,
   "id": "58fbe42a-b70f-46f0-a5f8-62c3e79fad27",
   "metadata": {},
   "outputs": [
    {
     "data": {
      "text/plain": [
       "array([18, 21])"
      ]
     },
     "execution_count": 45,
     "metadata": {},
     "output_type": "execute_result"
    }
   ],
   "source": [
    "import numpy as np\n",
    "v1 = np.array([1, 2])\n",
    "v2 = np.array([4, 5])\n",
    "v3 = np.array([7, 8])\n",
    "matrix_2d = np.vstack((v2, v3))\n",
    "dot_product1 = np.dot(v1,matrix_2d)\n",
    "dot_product1\n"
   ]
  },
  {
   "cell_type": "markdown",
   "id": "899fedc2-a4b2-4d62-9ef8-8b7da56a2544",
   "metadata": {},
   "source": [
    "### 5. Write function to compute z-score from given values such as x, mean(x), and std(x)\n",
    " \t# Input: x, mean(x), and std(x)\n",
    " \t# Output: output z-score"
   ]
  },
  {
   "cell_type": "code",
   "execution_count": 33,
   "id": "72dc8625-f407-4dcf-8284-bf77f4244fee",
   "metadata": {},
   "outputs": [
    {
     "name": "stdout",
     "output_type": "stream",
     "text": [
      "4.8890120703870465\n",
      "6.635087809810992\n",
      "-12.571745323852408\n",
      "-0.34921514788478913\n",
      "1.3968605915391565\n"
     ]
    }
   ],
   "source": [
    "def my_mean(x):\n",
    "    for n in x:\n",
    "        mean = sum(x)/len(x)\n",
    "    return mean\n",
    "def std_dev(x):\n",
    "    x_avg = my_mean(x)\n",
    "    var = 0\n",
    "    for n in x:\n",
    "        a = (n - x_avg)**2\n",
    "        a += n\n",
    "        var = a/len(x)\n",
    "    return var**0.5\n",
    "def my_zscore(x):\n",
    "    mean_x = my_mean(x)\n",
    "    std_x = std_dev(x)\n",
    "    for n in x:\n",
    "        zscore = (n - mean_x)/ std_x\n",
    "        print(zscore)\n",
    "x = [3,4,-7,0,1] \n",
    "my_zscore(x)    \n",
    "    "
   ]
  },
  {
   "cell_type": "code",
   "execution_count": null,
   "id": "e8fd8d1e-3a4b-40cd-97c3-72f4943c99be",
   "metadata": {},
   "outputs": [],
   "source": []
  }
 ],
 "metadata": {
  "kernelspec": {
   "display_name": "Python 3 (ipykernel)",
   "language": "python",
   "name": "python3"
  },
  "language_info": {
   "codemirror_mode": {
    "name": "ipython",
    "version": 3
   },
   "file_extension": ".py",
   "mimetype": "text/x-python",
   "name": "python",
   "nbconvert_exporter": "python",
   "pygments_lexer": "ipython3",
   "version": "3.12.7"
  }
 },
 "nbformat": 4,
 "nbformat_minor": 5
}
