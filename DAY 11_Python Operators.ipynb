{
 "cells": [
  {
   "cell_type": "markdown",
   "id": "e235a471-9e33-4b73-b020-880936868bf6",
   "metadata": {},
   "source": [
    "# Arithmetic"
   ]
  },
  {
   "cell_type": "code",
   "execution_count": 2,
   "id": "4b38c9ee-e158-41bf-8b01-42e4ba5b3a4c",
   "metadata": {},
   "outputs": [
    {
     "name": "stdout",
     "output_type": "stream",
     "text": [
      "7.5\n"
     ]
    }
   ],
   "source": [
    "#Addition  \n",
    "\n",
    "a= 3.5\n",
    "b=4\n",
    "print(a+b)"
   ]
  },
  {
   "cell_type": "code",
   "execution_count": 3,
   "id": "8baff563-5f6d-46cf-95f1-e36a4363459a",
   "metadata": {},
   "outputs": [
    {
     "name": "stdout",
     "output_type": "stream",
     "text": [
      "-0.5\n"
     ]
    }
   ],
   "source": [
    "#Substraction\n",
    "\n",
    "a= 3.5\n",
    "b=4\n",
    "print(a-b)"
   ]
  },
  {
   "cell_type": "code",
   "execution_count": 4,
   "id": "a3bca051-892d-4656-83a9-a8479c4f372f",
   "metadata": {},
   "outputs": [
    {
     "name": "stdout",
     "output_type": "stream",
     "text": [
      "14.0\n"
     ]
    }
   ],
   "source": [
    "# multiplication\n",
    "\n",
    "a= 3.5\n",
    "b=4\n",
    "print(a*b)"
   ]
  },
  {
   "cell_type": "code",
   "execution_count": 5,
   "id": "ca47801f-d90e-424a-b525-7e94ef67b5d9",
   "metadata": {},
   "outputs": [
    {
     "name": "stdout",
     "output_type": "stream",
     "text": [
      "0.875\n"
     ]
    }
   ],
   "source": [
    "#division\n",
    "\n",
    "a= 3.5\n",
    "b=4\n",
    "print(a/b)\n"
   ]
  },
  {
   "cell_type": "code",
   "execution_count": 6,
   "id": "95bc331b-2338-4381-9cb0-2aa7ad31e9fd",
   "metadata": {},
   "outputs": [
    {
     "name": "stdout",
     "output_type": "stream",
     "text": [
      "3.5\n"
     ]
    }
   ],
   "source": [
    "#modulus\n",
    "\n",
    "a= 3.5\n",
    "b=4\n",
    "print(a%b)\n"
   ]
  },
  {
   "cell_type": "code",
   "execution_count": 7,
   "id": "d41dfa2d-c613-4a53-81ec-c8d2bc556b57",
   "metadata": {},
   "outputs": [
    {
     "name": "stdout",
     "output_type": "stream",
     "text": [
      "150.0625\n"
     ]
    }
   ],
   "source": [
    "#exponentiation\n",
    "\n",
    "a= 3.5\n",
    "b=4\n",
    "print(a**b)"
   ]
  },
  {
   "cell_type": "code",
   "execution_count": 9,
   "id": "e1fe4050-bc86-48a4-9cad-906a07987800",
   "metadata": {},
   "outputs": [
    {
     "name": "stdout",
     "output_type": "stream",
     "text": [
      "4\n"
     ]
    }
   ],
   "source": [
    "#floor division \n",
    "\n",
    "a= 9\n",
    "b=2\n",
    "print(a//b)\n"
   ]
  },
  {
   "cell_type": "markdown",
   "id": "0f019510-888f-41ad-ac46-6f8684245eeb",
   "metadata": {},
   "source": [
    "# Assignmemt"
   ]
  },
  {
   "cell_type": "code",
   "execution_count": 11,
   "id": "35dc6f97-745d-4d81-83fd-1dc510b278a4",
   "metadata": {},
   "outputs": [
    {
     "name": "stdout",
     "output_type": "stream",
     "text": [
      "10\n"
     ]
    }
   ],
   "source": [
    "# equals\n",
    "x = 10\n",
    "print(x)\n"
   ]
  },
  {
   "cell_type": "markdown",
   "id": "78f8bbfa-ea92-4af2-9b0b-f932fa8bd7f3",
   "metadata": {},
   "source": [
    "# Comparison"
   ]
  },
  {
   "cell_type": "code",
   "execution_count": 13,
   "id": "af764f2e-90b5-47b7-9362-cf487af1100a",
   "metadata": {},
   "outputs": [
    {
     "data": {
      "text/plain": [
       "True"
      ]
     },
     "execution_count": 13,
     "metadata": {},
     "output_type": "execute_result"
    }
   ],
   "source": [
    "# equal to\n",
    "a=10\n",
    "b=10\n",
    "a==b"
   ]
  },
  {
   "cell_type": "code",
   "execution_count": 14,
   "id": "078d44ad-926e-44cb-bc15-fe5fe65cd0ea",
   "metadata": {},
   "outputs": [
    {
     "data": {
      "text/plain": [
       "True"
      ]
     },
     "execution_count": 14,
     "metadata": {},
     "output_type": "execute_result"
    }
   ],
   "source": [
    "# Not equal to\n",
    "a=10\n",
    "b=20\n",
    "a!=b"
   ]
  },
  {
   "cell_type": "code",
   "execution_count": 16,
   "id": "fbe54bb3-1396-4832-9ad3-8ff54cf5bfba",
   "metadata": {},
   "outputs": [
    {
     "data": {
      "text/plain": [
       "False"
      ]
     },
     "execution_count": 16,
     "metadata": {},
     "output_type": "execute_result"
    }
   ],
   "source": [
    "# greater than or equal to\n",
    "a=10\n",
    "b=20\n",
    "a>=b"
   ]
  },
  {
   "cell_type": "code",
   "execution_count": 17,
   "id": "6994b840-f56d-4f6b-963f-e204073ee565",
   "metadata": {},
   "outputs": [
    {
     "data": {
      "text/plain": [
       "True"
      ]
     },
     "execution_count": 17,
     "metadata": {},
     "output_type": "execute_result"
    }
   ],
   "source": [
    "# less than or equal to\n",
    "a=10\n",
    "b=20\n",
    "a<=b"
   ]
  },
  {
   "cell_type": "markdown",
   "id": "6b561202-d507-45d3-963a-935439a48a01",
   "metadata": {},
   "source": [
    "## Logical "
   ]
  },
  {
   "cell_type": "code",
   "execution_count": 22,
   "id": "bd426bc8-9fc8-46d0-ad94-2124727c496e",
   "metadata": {},
   "outputs": [
    {
     "name": "stdout",
     "output_type": "stream",
     "text": [
      "True\n"
     ]
    }
   ],
   "source": [
    "# AND\n",
    "print( True and True)"
   ]
  },
  {
   "cell_type": "code",
   "execution_count": 23,
   "id": "391d7168-e75e-401e-892f-e18d32e20daf",
   "metadata": {},
   "outputs": [
    {
     "name": "stdout",
     "output_type": "stream",
     "text": [
      "True\n"
     ]
    }
   ],
   "source": [
    "# OR\n",
    "print( True or False)"
   ]
  },
  {
   "cell_type": "code",
   "execution_count": 24,
   "id": "5996f388-7876-414b-9ed1-905e8f7402ad",
   "metadata": {},
   "outputs": [
    {
     "name": "stdout",
     "output_type": "stream",
     "text": [
      "False\n"
     ]
    }
   ],
   "source": [
    "# NOT\n",
    "print( not True)"
   ]
  },
  {
   "cell_type": "markdown",
   "id": "4f22110f-bbd5-44b9-aee3-f4fec80725de",
   "metadata": {},
   "source": [
    "## Membership"
   ]
  },
  {
   "cell_type": "code",
   "execution_count": 26,
   "id": "ab82605c-c278-4081-a99a-b1879828e490",
   "metadata": {},
   "outputs": [
    {
     "name": "stdout",
     "output_type": "stream",
     "text": [
      "True\n"
     ]
    }
   ],
   "source": [
    "# IN\n",
    "print(1 in {1, 2, 3})"
   ]
  },
  {
   "cell_type": "code",
   "execution_count": 30,
   "id": "d74a0cda-d097-4428-93be-3f4130995cb5",
   "metadata": {},
   "outputs": [
    {
     "name": "stdout",
     "output_type": "stream",
     "text": [
      "True\n"
     ]
    }
   ],
   "source": [
    "# IN\n",
    "print(\"a\" in \"name\")"
   ]
  },
  {
   "cell_type": "code",
   "execution_count": 31,
   "id": "affe14bc-3e8c-42f8-a142-0b3147959475",
   "metadata": {},
   "outputs": [
    {
     "name": "stdout",
     "output_type": "stream",
     "text": [
      "False\n"
     ]
    }
   ],
   "source": [
    "# NOT IN\n",
    "print(1 not in {1, 2, 3})"
   ]
  },
  {
   "cell_type": "markdown",
   "id": "100bff8a-f05a-4c1a-b380-ab5f36b2e0f6",
   "metadata": {},
   "source": [
    "## Identity"
   ]
  },
  {
   "cell_type": "code",
   "execution_count": 34,
   "id": "15b23705-4eae-4569-9151-6b787eb73737",
   "metadata": {},
   "outputs": [
    {
     "name": "stdout",
     "output_type": "stream",
     "text": [
      "True\n",
      "False\n"
     ]
    }
   ],
   "source": [
    "# IS\n",
    "a=10\n",
    "b=10\n",
    "print(a is b)\n",
    "\n",
    "a=10\n",
    "b=20\n",
    "print(a is b)\n"
   ]
  },
  {
   "cell_type": "code",
   "execution_count": 45,
   "id": "d9bd0024-b7aa-4c8f-a527-dc1b79d2ddb4",
   "metadata": {},
   "outputs": [
    {
     "name": "stdout",
     "output_type": "stream",
     "text": [
      "True\n"
     ]
    }
   ],
   "source": [
    "a=10\n",
    "b=10\n",
    "print(a is b)\n",
    "\n"
   ]
  },
  {
   "cell_type": "code",
   "execution_count": 46,
   "id": "956aa72f-b62e-4cc8-8694-3c8165bd80de",
   "metadata": {},
   "outputs": [
    {
     "name": "stdout",
     "output_type": "stream",
     "text": [
      "False\n"
     ]
    }
   ],
   "source": [
    "a= 20\n"
   ]
  },
  {
   "cell_type": "code",
   "execution_count": 47,
   "id": "78fee502-1a58-480e-8dd7-6c8d0e899649",
   "metadata": {},
   "outputs": [
    {
     "name": "stdout",
     "output_type": "stream",
     "text": [
      "10\n"
     ]
    }
   ],
   "source": [
    "\n",
    "print(b)"
   ]
  },
  {
   "cell_type": "code",
   "execution_count": 40,
   "id": "1b1b17ae-3cc7-472d-9610-ba2cf4c122ed",
   "metadata": {},
   "outputs": [
    {
     "name": "stdout",
     "output_type": "stream",
     "text": [
      "True\n"
     ]
    }
   ],
   "source": [
    "# Write a code to check whether a number given in a variable x is odd\n",
    "\n",
    "x=9\n",
    "print(x%2 != 0)\n"
   ]
  },
  {
   "cell_type": "code",
   "execution_count": 44,
   "id": "0c5a903c-e503-41ff-8de2-8d92b76eabed",
   "metadata": {},
   "outputs": [
    {
     "name": "stdout",
     "output_type": "stream",
     "text": [
      "True\n"
     ]
    }
   ],
   "source": [
    "# Write a code to check whether a number given in a variable x is odd and divisible by 9\n",
    "\n",
    "x=9\n",
    "print(x%2 != 0 and x%9 == 0)\n"
   ]
  },
  {
   "cell_type": "code",
   "execution_count": 52,
   "id": "482e8214-6dd8-40c9-816b-e75644305907",
   "metadata": {},
   "outputs": [
    {
     "name": "stdout",
     "output_type": "stream",
     "text": [
      "False\n"
     ]
    }
   ],
   "source": [
    "\n",
    "# Write a code to know if a given string has more than 10 characters\n",
    "\n",
    "x = \"Anjana\"\n",
    "print(len(x) > 10)\n"
   ]
  },
  {
   "cell_type": "markdown",
   "id": "a017d8a3-7955-4d28-8bfa-8e7073c959ee",
   "metadata": {},
   "source": [
    "# Ternary or Conditional"
   ]
  },
  {
   "cell_type": "raw",
   "id": "db6d2f2c-30e0-48f1-8ce9-6e4dd81acd56",
   "metadata": {},
   "source": [
    "###  Conditional Statements\n",
    "\n",
    "if conditional:\n",
    "    code\n",
    "else: \n",
    "    code"
   ]
  },
  {
   "cell_type": "code",
   "execution_count": 51,
   "id": "53aa4026-d1a6-4f66-8081-3ffe71cd4cb4",
   "metadata": {},
   "outputs": [
    {
     "name": "stdout",
     "output_type": "stream",
     "text": [
      "even\n"
     ]
    }
   ],
   "source": [
    "# Write a code to check whether a number given in a variable is odd or even using conditional statement\n",
    "\n",
    "x = 10\n",
    "if x%2 !=0:\n",
    "    print(\"odd\")\n",
    "else:\n",
    "    print(\"even\")\n",
    "\n"
   ]
  },
  {
   "cell_type": "code",
   "execution_count": 53,
   "id": "6b624307-32e2-4db6-b27a-6a1daac0518c",
   "metadata": {},
   "outputs": [
    {
     "data": {
      "text/plain": [
       "'ymedaca tci'"
      ]
     },
     "execution_count": 53,
     "metadata": {},
     "output_type": "execute_result"
    }
   ],
   "source": [
    "y = \"ict academy\"\n",
    "y[ : :-1]"
   ]
  },
  {
   "cell_type": "code",
   "execution_count": 54,
   "id": "7e1b51a4-be82-49d1-b831-89590f154501",
   "metadata": {},
   "outputs": [
    {
     "data": {
      "text/plain": [
       "'itaaey'"
      ]
     },
     "execution_count": 54,
     "metadata": {},
     "output_type": "execute_result"
    }
   ],
   "source": [
    "y[0 : :2]"
   ]
  },
  {
   "cell_type": "code",
   "execution_count": 55,
   "id": "2cd5befa-3f32-4f7a-ad3c-90dd8fcacec9",
   "metadata": {},
   "outputs": [
    {
     "data": {
      "text/plain": [
       "'ict'"
      ]
     },
     "execution_count": 55,
     "metadata": {},
     "output_type": "execute_result"
    }
   ],
   "source": [
    "y[0:3]"
   ]
  },
  {
   "cell_type": "code",
   "execution_count": 56,
   "id": "04c2f9fe-c122-4837-883f-061bdbfa983c",
   "metadata": {},
   "outputs": [
    {
     "data": {
      "text/plain": [
       "'academy'"
      ]
     },
     "execution_count": 56,
     "metadata": {},
     "output_type": "execute_result"
    }
   ],
   "source": [
    "y[4:]"
   ]
  },
  {
   "cell_type": "code",
   "execution_count": 70,
   "id": "a494ba06-37ec-406f-84ba-a5ac4ce45be2",
   "metadata": {},
   "outputs": [
    {
     "name": "stdout",
     "output_type": "stream",
     "text": [
      "True\n"
     ]
    }
   ],
   "source": [
    "# Write a code to check a given string is palindrome or not\n",
    "\n",
    "x = \"malayalam\"\n",
    "print(x[ : :-1] == x)\n"
   ]
  }
 ],
 "metadata": {
  "kernelspec": {
   "display_name": "Python 3 (ipykernel)",
   "language": "python",
   "name": "python3"
  },
  "language_info": {
   "codemirror_mode": {
    "name": "ipython",
    "version": 3
   },
   "file_extension": ".py",
   "mimetype": "text/x-python",
   "name": "python",
   "nbconvert_exporter": "python",
   "pygments_lexer": "ipython3",
   "version": "3.11.7"
  }
 },
 "nbformat": 4,
 "nbformat_minor": 5
}
