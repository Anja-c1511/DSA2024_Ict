{
 "cells": [
  {
   "cell_type": "markdown",
   "id": "2c77cb14-90fd-48f4-99dc-79df5f067001",
   "metadata": {},
   "source": [
    "# Python Data Types"
   ]
  },
  {
   "cell_type": "markdown",
   "id": "05b8db39-aca4-4be2-bab1-5e2675ec093c",
   "metadata": {},
   "source": [
    "## Numeric Type"
   ]
  },
  {
   "cell_type": "markdown",
   "id": "0a7818a2-621d-4b74-b4df-e76f2153d373",
   "metadata": {},
   "source": [
    "a=3\n",
    "print(a)"
   ]
  },
  {
   "cell_type": "code",
   "execution_count": 4,
   "id": "042ae6a1-0944-4a6c-8835-cd2f59a6d029",
   "metadata": {},
   "outputs": [
    {
     "data": {
      "text/plain": [
       "int"
      ]
     },
     "execution_count": 4,
     "metadata": {},
     "output_type": "execute_result"
    }
   ],
   "source": [
    "type(a)"
   ]
  },
  {
   "cell_type": "code",
   "execution_count": 5,
   "id": "49218a5d-105f-420b-9864-607aad4a75d0",
   "metadata": {},
   "outputs": [
    {
     "data": {
      "text/plain": [
       "float"
      ]
     },
     "execution_count": 5,
     "metadata": {},
     "output_type": "execute_result"
    }
   ],
   "source": [
    "pi = 3.14\n",
    "type (pi)"
   ]
  },
  {
   "cell_type": "code",
   "execution_count": 6,
   "id": "38091f2c-a289-4472-948f-53d666bb9800",
   "metadata": {},
   "outputs": [
    {
     "data": {
      "text/plain": [
       "complex"
      ]
     },
     "execution_count": 6,
     "metadata": {},
     "output_type": "execute_result"
    }
   ],
   "source": [
    "d= 3+4j\n",
    "type(d)"
   ]
  },
  {
   "cell_type": "code",
   "execution_count": 7,
   "id": "3f8af7d4-e64e-4f7a-b31b-b0cc8486be57",
   "metadata": {},
   "outputs": [
    {
     "data": {
      "text/plain": [
       "complex"
      ]
     },
     "execution_count": 7,
     "metadata": {},
     "output_type": "execute_result"
    }
   ],
   "source": [
    "e = 4j\n",
    "type(e)\n"
   ]
  },
  {
   "cell_type": "markdown",
   "id": "2fba7d39-2fb9-42cc-9484-2caebd491507",
   "metadata": {},
   "source": [
    "# Text type"
   ]
  },
  {
   "cell_type": "markdown",
   "id": "f84bc713-d1d2-4d0a-8f00-346ba723eb86",
   "metadata": {},
   "source": [
    "## String"
   ]
  },
  {
   "cell_type": "code",
   "execution_count": 9,
   "id": "eebb3041-f0f8-402d-92cc-6bef43b997b9",
   "metadata": {},
   "outputs": [
    {
     "data": {
      "text/plain": [
       "str"
      ]
     },
     "execution_count": 9,
     "metadata": {},
     "output_type": "execute_result"
    }
   ],
   "source": [
    "month = \"November\"\n",
    "type(month)\n"
   ]
  },
  {
   "cell_type": "code",
   "execution_count": 10,
   "id": "6b20ee41-e1ba-47c8-8111-71ef2bcc4e51",
   "metadata": {},
   "outputs": [
    {
     "data": {
      "text/plain": [
       "str"
      ]
     },
     "execution_count": 10,
     "metadata": {},
     "output_type": "execute_result"
    }
   ],
   "source": [
    "MONTH = 'C'\n",
    "type(MONTH)\n"
   ]
  },
  {
   "cell_type": "code",
   "execution_count": 11,
   "id": "8bc7ec68-8f82-4786-815d-3a587342a047",
   "metadata": {},
   "outputs": [
    {
     "data": {
      "text/plain": [
       "8"
      ]
     },
     "execution_count": 11,
     "metadata": {},
     "output_type": "execute_result"
    }
   ],
   "source": [
    "len(month)"
   ]
  },
  {
   "cell_type": "code",
   "execution_count": null,
   "id": "96ac015e-eb67-46b8-a0fa-b6c0e2191599",
   "metadata": {},
   "outputs": [],
   "source": [
    "index"
   ]
  },
  {
   "cell_type": "markdown",
   "id": "1e43b1ba-82c8-41b7-920e-9ee9c726522f",
   "metadata": {},
   "source": [
    "# Sequence Type"
   ]
  },
  {
   "cell_type": "markdown",
   "id": "4ee9074d-bac6-4b59-a674-565b32b81b71",
   "metadata": {},
   "source": [
    "## 1. List\n",
    "\n",
    "List is a collection of elements grouped together.\n",
    "List are mutable (can change the elements after creating the list)"
   ]
  },
  {
   "cell_type": "code",
   "execution_count": 13,
   "id": "d54c254b-e7d6-457d-a887-103caee6169a",
   "metadata": {},
   "outputs": [],
   "source": [
    "digits = [0, 1, 2, 3, 4]\n",
    "vowels = ['a', 'e', 'i', 'o', 'u']"
   ]
  },
  {
   "cell_type": "code",
   "execution_count": 14,
   "id": "6a69406a-b4ef-4f60-943f-f8182124d35b",
   "metadata": {},
   "outputs": [],
   "source": [
    "#python lists can have induvidual elements of variousn data types\n",
    "grocery = [ \"Apple\", 55 , \"organe\", 10 ]"
   ]
  },
  {
   "cell_type": "code",
   "execution_count": 15,
   "id": "3ec701b3-2979-4eec-aa25-42c8a531a62d",
   "metadata": {},
   "outputs": [
    {
     "data": {
      "text/plain": [
       "4"
      ]
     },
     "execution_count": 15,
     "metadata": {},
     "output_type": "execute_result"
    }
   ],
   "source": [
    "len(grocery)"
   ]
  },
  {
   "cell_type": "code",
   "execution_count": 16,
   "id": "aa30790a-1fb7-43dd-9395-d4ad5f5abc38",
   "metadata": {},
   "outputs": [],
   "source": [
    "num = [ [1, 3, 4, 5], [2, 4, 6, 8]]"
   ]
  },
  {
   "cell_type": "code",
   "execution_count": 17,
   "id": "e1e9f130-7437-4581-9755-486ef02e29bc",
   "metadata": {},
   "outputs": [
    {
     "data": {
      "text/plain": [
       "2"
      ]
     },
     "execution_count": 17,
     "metadata": {},
     "output_type": "execute_result"
    }
   ],
   "source": [
    "len(num)"
   ]
  },
  {
   "cell_type": "code",
   "execution_count": 18,
   "id": "8bbd2465-1e6b-4429-b84c-971e8e34716e",
   "metadata": {},
   "outputs": [
    {
     "name": "stdout",
     "output_type": "stream",
     "text": [
      "['Apple', 55, 'organe', 10]\n"
     ]
    }
   ],
   "source": [
    "print(grocery)"
   ]
  },
  {
   "cell_type": "code",
   "execution_count": 19,
   "id": "dd7b273b-90eb-4fa1-964b-8f799e152569",
   "metadata": {},
   "outputs": [
    {
     "data": {
      "text/plain": [
       "'Apple'"
      ]
     },
     "execution_count": 19,
     "metadata": {},
     "output_type": "execute_result"
    }
   ],
   "source": [
    "grocery[0]\n"
   ]
  },
  {
   "cell_type": "code",
   "execution_count": 20,
   "id": "f46dad34-cbe4-45a5-930b-922584379a93",
   "metadata": {},
   "outputs": [],
   "source": [
    "grocery[0] = \"Grape\"\n"
   ]
  },
  {
   "cell_type": "code",
   "execution_count": 21,
   "id": "7647d18a-69da-49e2-be81-e61802855fc2",
   "metadata": {},
   "outputs": [
    {
     "name": "stdout",
     "output_type": "stream",
     "text": [
      "['Grape', 55, 'organe', 10]\n"
     ]
    }
   ],
   "source": [
    "print(grocery)"
   ]
  },
  {
   "cell_type": "code",
   "execution_count": 27,
   "id": "053bf119-cf1c-4371-b07d-c599d1b273d0",
   "metadata": {},
   "outputs": [],
   "source": [
    "grocery.append(30)\n"
   ]
  },
  {
   "cell_type": "code",
   "execution_count": 28,
   "id": "f0381ab4-bdbb-4528-b82e-b9500d86649d",
   "metadata": {},
   "outputs": [
    {
     "name": "stdout",
     "output_type": "stream",
     "text": [
      "['Grape', 55, 'organe', 10, 30]\n"
     ]
    }
   ],
   "source": [
    "print(grocery)"
   ]
  },
  {
   "cell_type": "code",
   "execution_count": 22,
   "id": "1bb3b9fc-02bd-4b66-8adf-c0f2a8b770e0",
   "metadata": {},
   "outputs": [],
   "source": [
    "institute = \"ICT Academy\""
   ]
  },
  {
   "cell_type": "code",
   "execution_count": 47,
   "id": "f526983f-8c69-4cd6-a47f-8c962fd15798",
   "metadata": {},
   "outputs": [],
   "source": [
    "#grocery[5]= \"Apple\" not possible as it is out of range"
   ]
  },
  {
   "cell_type": "code",
   "execution_count": 31,
   "id": "326ffb16-4367-4cc1-ba85-29f5d20a419d",
   "metadata": {},
   "outputs": [],
   "source": [
    "grocery[4]= \"Apple\""
   ]
  },
  {
   "cell_type": "code",
   "execution_count": 32,
   "id": "8aa7b2ea-8d3d-49b2-a3ff-59f561c4d3ab",
   "metadata": {},
   "outputs": [
    {
     "name": "stdout",
     "output_type": "stream",
     "text": [
      "['Grape', 55, 'organe', 10, 'Apple']\n"
     ]
    }
   ],
   "source": [
    "print(grocery)"
   ]
  },
  {
   "cell_type": "markdown",
   "id": "b6330fd7-f7d4-42fb-9bb1-8c7876b75585",
   "metadata": {},
   "source": [
    "## 2. Tuple\n",
    "similar to tuple but are immutable ( cannot change or add or remove items)\n",
    "tuples are more memmory efficient\n",
    "protects data from accidental modification\n",
    "\n"
   ]
  },
  {
   "cell_type": "code",
   "execution_count": 34,
   "id": "37a60a0a-a3e6-4f74-a2d3-fdf0133dde23",
   "metadata": {},
   "outputs": [],
   "source": [
    "my_tuple = (1, 2, 3)"
   ]
  },
  {
   "cell_type": "code",
   "execution_count": 48,
   "id": "8545cfac-0747-4cd0-b91e-124f79471822",
   "metadata": {},
   "outputs": [],
   "source": [
    "# my_tuple[0] = 4 cant be done since it is immmutable\n"
   ]
  },
  {
   "cell_type": "markdown",
   "id": "a767374e-151e-4916-94ca-752e2264ddd8",
   "metadata": {},
   "source": [
    "## 3. Range\n",
    "represents immutable sequence of numbers"
   ]
  },
  {
   "cell_type": "code",
   "execution_count": 36,
   "id": "e2ae2e75-9c6c-4b85-8b31-a642b7fd4cbe",
   "metadata": {},
   "outputs": [],
   "source": [
    "# range(start, stop, skip)\n",
    "# range (5) gives 0 to 4\n",
    "# range (1,5) gives 1 to 4\n",
    "# range (1,5,2) gives 1 to 3\n"
   ]
  },
  {
   "cell_type": "code",
   "execution_count": 41,
   "id": "2eb7acd4-d603-4f5b-8e4b-c6cd7940d0a6",
   "metadata": {},
   "outputs": [],
   "source": [
    "start=0\n",
    "stop=10\n",
    "step=1"
   ]
  },
  {
   "cell_type": "code",
   "execution_count": 43,
   "id": "0b926312-0134-4f55-a2dd-0fd2d6f920d0",
   "metadata": {},
   "outputs": [
    {
     "data": {
      "text/plain": [
       "range(0, 5)"
      ]
     },
     "execution_count": 43,
     "metadata": {},
     "output_type": "execute_result"
    }
   ],
   "source": [
    "range(stop)\n"
   ]
  },
  {
   "cell_type": "code",
   "execution_count": 44,
   "id": "947ba2a8-7fad-495a-9e77-aecee6d93c5f",
   "metadata": {},
   "outputs": [
    {
     "data": {
      "text/plain": [
       "range"
      ]
     },
     "execution_count": 44,
     "metadata": {},
     "output_type": "execute_result"
    }
   ],
   "source": [
    "type(range(stop))\n"
   ]
  },
  {
   "cell_type": "code",
   "execution_count": 46,
   "id": "2654334e-570f-4eea-b15b-5aff345aab12",
   "metadata": {},
   "outputs": [
    {
     "data": {
      "text/plain": [
       "[0, 1, 2, 3, 4]"
      ]
     },
     "execution_count": 46,
     "metadata": {},
     "output_type": "execute_result"
    }
   ],
   "source": [
    "list(range(stop))"
   ]
  },
  {
   "cell_type": "code",
   "execution_count": 49,
   "id": "86aef591-aa98-4d47-ba2c-be773878569d",
   "metadata": {},
   "outputs": [
    {
     "data": {
      "text/plain": [
       "range(0, 5)"
      ]
     },
     "execution_count": 49,
     "metadata": {},
     "output_type": "execute_result"
    }
   ],
   "source": [
    "range(5)\n"
   ]
  },
  {
   "cell_type": "code",
   "execution_count": 51,
   "id": "b6764f57-c7ce-496a-b18a-b7a0b2bcf113",
   "metadata": {},
   "outputs": [
    {
     "data": {
      "text/plain": [
       "[0, 1, 2, 3, 4]"
      ]
     },
     "execution_count": 51,
     "metadata": {},
     "output_type": "execute_result"
    }
   ],
   "source": [
    "list(range(0,5))\n"
   ]
  },
  {
   "cell_type": "code",
   "execution_count": 52,
   "id": "21708500-336a-4bae-9a80-c96948a661ed",
   "metadata": {},
   "outputs": [
    {
     "data": {
      "text/plain": [
       "[1, 3, 5, 7, 9]"
      ]
     },
     "execution_count": 52,
     "metadata": {},
     "output_type": "execute_result"
    }
   ],
   "source": [
    "list(range(1,10,2))\n"
   ]
  },
  {
   "cell_type": "code",
   "execution_count": 53,
   "id": "78360486-f6e9-4e89-8633-44b9429fc4ec",
   "metadata": {},
   "outputs": [
    {
     "data": {
      "text/plain": [
       "list"
      ]
     },
     "execution_count": 53,
     "metadata": {},
     "output_type": "execute_result"
    }
   ],
   "source": [
    "type(list(range(1,10,2)))"
   ]
  },
  {
   "cell_type": "code",
   "execution_count": 54,
   "id": "533beff6-40fa-4a92-b8ed-82a5026b43e4",
   "metadata": {},
   "outputs": [
    {
     "data": {
      "text/plain": [
       "range"
      ]
     },
     "execution_count": 54,
     "metadata": {},
     "output_type": "execute_result"
    }
   ],
   "source": [
    "type(range(1,10,2))"
   ]
  },
  {
   "cell_type": "code",
   "execution_count": 57,
   "id": "f76c3664-2756-455e-a878-386deb22a2b6",
   "metadata": {},
   "outputs": [
    {
     "data": {
      "text/plain": [
       "[1, 3, 5, 7, 9]"
      ]
     },
     "execution_count": 57,
     "metadata": {},
     "output_type": "execute_result"
    }
   ],
   "source": [
    "list(range(1,10,2))"
   ]
  },
  {
   "cell_type": "code",
   "execution_count": 61,
   "id": "f5b11463-bdea-4f86-8dfd-4bde5623c564",
   "metadata": {},
   "outputs": [
    {
     "data": {
      "text/plain": [
       "[1, 3, 5, 7, 9, 11]"
      ]
     },
     "execution_count": 61,
     "metadata": {},
     "output_type": "execute_result"
    }
   ],
   "source": [
    "list(range(1,12,2))"
   ]
  },
  {
   "cell_type": "code",
   "execution_count": 64,
   "id": "3d64f884-4232-4f0f-9fd5-1a394df9bc6a",
   "metadata": {},
   "outputs": [
    {
     "data": {
      "text/plain": [
       "[10, 9, 8, 7, 6, 5, 4, 3, 2, 1]"
      ]
     },
     "execution_count": 64,
     "metadata": {},
     "output_type": "execute_result"
    }
   ],
   "source": [
    "start=10\n",
    "stop=0\n",
    "step=-1\n",
    "list(range(10,0,-1))\n",
    "     "
   ]
  },
  {
   "cell_type": "code",
   "execution_count": 65,
   "id": "2e722e1d-b4b1-479b-a006-c644bfae69f0",
   "metadata": {},
   "outputs": [
    {
     "data": {
      "text/plain": [
       "[10, 8, 6, 4, 2]"
      ]
     },
     "execution_count": 65,
     "metadata": {},
     "output_type": "execute_result"
    }
   ],
   "source": [
    "start=10\n",
    "stop=1\n",
    "step=-2\n",
    "list(range(10,1,-2))\n",
    "\n",
    "     "
   ]
  },
  {
   "cell_type": "markdown",
   "id": "96d22535-a663-4fa3-a358-4dfe2f2481d8",
   "metadata": {},
   "source": [
    "# Mapping Type"
   ]
  },
  {
   "cell_type": "markdown",
   "id": "1971f00d-4772-48ff-88be-23fa224429dc",
   "metadata": {},
   "source": [
    "## 1. Dictionary"
   ]
  },
  {
   "cell_type": "markdown",
   "id": "1350a833-ad64-4532-994a-ba3984663748",
   "metadata": {},
   "source": [
    "It is unordered, mutable collection that stores data in key value pairs.\n",
    "Each key in dictionaty must be unique  while values can be duplicated."
   ]
  },
  {
   "cell_type": "code",
   "execution_count": 69,
   "id": "f92b050d-ee19-49b3-ab2e-9dc983e9dc21",
   "metadata": {},
   "outputs": [],
   "source": [
    "data = {\n",
    "    \"Institute\" : \"ICT\",\n",
    "    \"City\" : \"Trivandrum\"\n",
    "}"
   ]
  },
  {
   "cell_type": "code",
   "execution_count": 70,
   "id": "995e26e7-1b49-4b60-b2e8-ff3fd14253d3",
   "metadata": {},
   "outputs": [
    {
     "name": "stdout",
     "output_type": "stream",
     "text": [
      "{'Institute': 'ICT', 'City': 'Trivandrum'}\n"
     ]
    }
   ],
   "source": [
    "print(data)"
   ]
  },
  {
   "cell_type": "code",
   "execution_count": 72,
   "id": "05e8b73f-ed6d-470d-af17-510fb2cc3d99",
   "metadata": {},
   "outputs": [],
   "source": [
    "details = {\n",
    "    \"name\":\"Anjana\",\n",
    "    \"age\": 26,\n",
    "    \"phone\": 987654443433\n",
    "}"
   ]
  },
  {
   "cell_type": "code",
   "execution_count": 73,
   "id": "714b7fca-e2bd-45fd-9d2a-00b7861a9972",
   "metadata": {},
   "outputs": [
    {
     "name": "stdout",
     "output_type": "stream",
     "text": [
      "{'name': 'Anjana', 'age': 26, 'phone': 987654443433}\n"
     ]
    }
   ],
   "source": [
    "print(details)"
   ]
  },
  {
   "cell_type": "code",
   "execution_count": 75,
   "id": "97d68548-db91-45ba-badc-6f485dbb32d6",
   "metadata": {},
   "outputs": [
    {
     "data": {
      "text/plain": [
       "'Anjana'"
      ]
     },
     "execution_count": 75,
     "metadata": {},
     "output_type": "execute_result"
    }
   ],
   "source": [
    "details[\"name\"]\n",
    "\n"
   ]
  },
  {
   "cell_type": "code",
   "execution_count": 76,
   "id": "f33278a7-b89c-4d0a-b2b8-8e1d72bb1439",
   "metadata": {},
   "outputs": [],
   "source": [
    "details[\"state\"]=\"kerala\"\n"
   ]
  },
  {
   "cell_type": "code",
   "execution_count": 77,
   "id": "9d173b93-bba3-4669-8666-430da3f997c4",
   "metadata": {},
   "outputs": [
    {
     "name": "stdout",
     "output_type": "stream",
     "text": [
      "{'name': 'Anjana', 'age': 26, 'phone': 987654443433, 'state': 'kerala'}\n"
     ]
    }
   ],
   "source": [
    "print(details)"
   ]
  },
  {
   "cell_type": "code",
   "execution_count": 78,
   "id": "e5ec53ab-c8b8-4370-9cd5-0b31a96f8286",
   "metadata": {},
   "outputs": [
    {
     "name": "stdout",
     "output_type": "stream",
     "text": [
      "{'name': 'ANJANA', 'age': 26, 'phone': 987654443433, 'state': 'kerala'}\n"
     ]
    }
   ],
   "source": [
    "details[\"name\"]=\"ANJANA\"\n",
    "print(details)\n"
   ]
  },
  {
   "cell_type": "code",
   "execution_count": 79,
   "id": "046a65e1-aa8f-4abd-862b-6cdf4b7c5b3f",
   "metadata": {},
   "outputs": [
    {
     "data": {
      "text/plain": [
       "dict_keys(['name', 'age', 'phone', 'state'])"
      ]
     },
     "execution_count": 79,
     "metadata": {},
     "output_type": "execute_result"
    }
   ],
   "source": [
    "# Accessing the values only from a dictionary\n",
    "details.keys()"
   ]
  },
  {
   "cell_type": "code",
   "execution_count": 80,
   "id": "dee28cc9-f9af-4127-b7b0-cfddde0e9249",
   "metadata": {},
   "outputs": [
    {
     "data": {
      "text/plain": [
       "dict_values(['ANJANA', 26, 987654443433, 'kerala'])"
      ]
     },
     "execution_count": 80,
     "metadata": {},
     "output_type": "execute_result"
    }
   ],
   "source": [
    "# Accessing the values only from a dictionary\n",
    "details.values()"
   ]
  },
  {
   "cell_type": "markdown",
   "id": "b3b85081-a774-4114-a4e0-a4bc8759311e",
   "metadata": {},
   "source": [
    "# Set Type"
   ]
  },
  {
   "cell_type": "markdown",
   "id": "58286a85-b5e4-43c4-b58c-dbf3c48ee0b8",
   "metadata": {},
   "source": [
    "## 1. Sets\n",
    "Duplicate is not allowed"
   ]
  },
  {
   "cell_type": "code",
   "execution_count": 82,
   "id": "f5c55764-45b3-4b13-88ba-3c587f1e6239",
   "metadata": {},
   "outputs": [
    {
     "name": "stdout",
     "output_type": "stream",
     "text": [
      "{1, 2, 3, 4}\n"
     ]
    }
   ],
   "source": [
    "my_set = {1,2,3,4}\n",
    "print(my_set)\n"
   ]
  },
  {
   "cell_type": "code",
   "execution_count": 83,
   "id": "fb14777e-6494-4a15-a742-6be553a209ff",
   "metadata": {},
   "outputs": [
    {
     "name": "stdout",
     "output_type": "stream",
     "text": [
      "{1, 2, 4}\n"
     ]
    }
   ],
   "source": [
    "# creating a set with duplicate values\n",
    "my_set_1 = {1,2,2,4}\n",
    "print(my_set_1)\n"
   ]
  },
  {
   "cell_type": "code",
   "execution_count": 85,
   "id": "92fe8695-80c8-48c1-94ab-227e291be221",
   "metadata": {},
   "outputs": [
    {
     "data": {
      "text/plain": [
       "{0, 1, 2, 3, 4, 5, 6, 7, 8, 9}"
      ]
     },
     "execution_count": 85,
     "metadata": {},
     "output_type": "execute_result"
    }
   ],
   "source": [
    "# using the set function\n",
    "my_list= [1, 2, 3, 4, 5, 6, 7, 7, 8, 8, 9, 0]\n",
    "set(my_list)"
   ]
  },
  {
   "cell_type": "markdown",
   "id": "1ad1c47b-7a10-4647-aaf0-e0ecfa658f76",
   "metadata": {},
   "source": [
    "## 2. Boolean"
   ]
  },
  {
   "cell_type": "code",
   "execution_count": 90,
   "id": "998882d6-5fb2-44a7-8a12-4eca9aa704ed",
   "metadata": {},
   "outputs": [
    {
     "name": "stdout",
     "output_type": "stream",
     "text": [
      "True\n"
     ]
    }
   ],
   "source": [
    "print(20<30)"
   ]
  },
  {
   "cell_type": "code",
   "execution_count": 91,
   "id": "8e9000a5-b1bd-4983-85b1-f46ad24218e5",
   "metadata": {},
   "outputs": [
    {
     "data": {
      "text/plain": [
       "True"
      ]
     },
     "execution_count": 91,
     "metadata": {},
     "output_type": "execute_result"
    }
   ],
   "source": [
    "\n",
    "10.00001 != 10.00002"
   ]
  },
  {
   "cell_type": "code",
   "execution_count": 93,
   "id": "ac85a28c-90f5-40e6-bfda-658bdfc72cbf",
   "metadata": {},
   "outputs": [
    {
     "data": {
      "text/plain": [
       "False"
      ]
     },
     "execution_count": 93,
     "metadata": {},
     "output_type": "execute_result"
    }
   ],
   "source": [
    "10.00001 == 10.00002"
   ]
  },
  {
   "cell_type": "code",
   "execution_count": 94,
   "id": "2dc181f3-8194-4909-9137-71245183c658",
   "metadata": {},
   "outputs": [
    {
     "data": {
      "text/plain": [
       "True"
      ]
     },
     "execution_count": 94,
     "metadata": {},
     "output_type": "execute_result"
    }
   ],
   "source": [
    "10.00001 == 10.00001"
   ]
  },
  {
   "cell_type": "markdown",
   "id": "62be784f-0bf1-47da-a679-7aeaff9db61d",
   "metadata": {},
   "source": [
    "## 3. None\n",
    "\n",
    "represents the absence of a value or a null value"
   ]
  },
  {
   "cell_type": "code",
   "execution_count": 88,
   "id": "d253cd51-354b-446e-a594-5a6b31e4cd70",
   "metadata": {},
   "outputs": [
    {
     "name": "stdout",
     "output_type": "stream",
     "text": [
      "None\n"
     ]
    }
   ],
   "source": [
    "status= None\n",
    "print(status)"
   ]
  },
  {
   "cell_type": "code",
   "execution_count": 89,
   "id": "3ba3401f-004d-463e-857a-2114b2b8cb72",
   "metadata": {},
   "outputs": [
    {
     "data": {
      "text/plain": [
       "NoneType"
      ]
     },
     "execution_count": 89,
     "metadata": {},
     "output_type": "execute_result"
    }
   ],
   "source": [
    "type(status)"
   ]
  },
  {
   "cell_type": "code",
   "execution_count": null,
   "id": "54451c13-388a-4ed6-af89-74cd5276617e",
   "metadata": {},
   "outputs": [],
   "source": []
  }
 ],
 "metadata": {
  "kernelspec": {
   "display_name": "Python 3 (ipykernel)",
   "language": "python",
   "name": "python3"
  },
  "language_info": {
   "codemirror_mode": {
    "name": "ipython",
    "version": 3
   },
   "file_extension": ".py",
   "mimetype": "text/x-python",
   "name": "python",
   "nbconvert_exporter": "python",
   "pygments_lexer": "ipython3",
   "version": "3.12.4"
  }
 },
 "nbformat": 4,
 "nbformat_minor": 5
}
